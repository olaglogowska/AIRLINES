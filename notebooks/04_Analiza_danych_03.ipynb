{
 "cells": [
  {
   "cell_type": "markdown",
   "metadata": {},
   "source": [
    " # Opis notatnika\n",
    " Zmierzamy do końca analizy danych, które zostały nam udostępnione. Ten krok dodaje jeszcze więcej informacji do naszego wyjściowego zbioru. Tym razem sprawdzimy między innymi to, czy opóźnienia lotów zależne są od trasy czy warunków pogodowych.\n",
    "\n",
    " Zanim jednak do tego przejdziemy, należy, podobnie jak w poprzednich krokach, skonfigurować odpowiednio notatnik.\n",
    " \n",
    " W tej części warsztatu ponownie wcielasz się w rolę Analiyka Danych, którego zadaniem jest wykonanie analizy eksplotacyjnej zbioru danych - jedno z wymagań dostarczonych przez klienta."
   ]
  },
  {
   "cell_type": "markdown",
   "metadata": {},
   "source": [
    " Tutaj zaimportuj wymagane biblioteki"
   ]
  },
  {
   "cell_type": "code",
   "execution_count": 279,
   "metadata": {},
   "outputs": [],
   "source": [
    "import pandas as pd\n",
    "from sqlalchemy import create_engine\n",
    "import matplotlib.pyplot as plt\n",
    "import numpy as np\n",
    "import seaborn as sns"
   ]
  },
  {
   "cell_type": "markdown",
   "metadata": {},
   "source": [
    " ## Połączenie z bazą danych\n",
    " Tutaj uzupełnij konfigurację połączenia"
   ]
  },
  {
   "cell_type": "code",
   "execution_count": 149,
   "metadata": {},
   "outputs": [],
   "source": [
    "username = 'postgres'\n",
    "password = 'NoScar11'\n",
    "\n",
    "host = 'localhost'\n",
    "database = 'airlines'\n",
    "port = 5432"
   ]
  },
  {
   "cell_type": "markdown",
   "metadata": {},
   "source": [
    " Tutaj stwórz zmienną engine, która zostanie użyta do połączenia z bazą danych"
   ]
  },
  {
   "cell_type": "code",
   "execution_count": 150,
   "metadata": {},
   "outputs": [],
   "source": [
    "url = f'postgresql+psycopg2://{username}:{password}@{host}:{port}/{database}'\n",
    "engine = create_engine(url)"
   ]
  },
  {
   "cell_type": "markdown",
   "metadata": {},
   "source": [
    " Tutaj uzupełnij implementację metody `read_sql_table`"
   ]
  },
  {
   "cell_type": "code",
   "execution_count": 151,
   "metadata": {},
   "outputs": [],
   "source": [
    "def read_sql_table(table_name, engine):\n",
    "    table_name = table_name\n",
    "    engine = create_engine(f'postgresql+psycopg2://{username}:{password}@{host}:{port}/{database}')\n",
    "   \n",
    "    df = pd.read_sql_table(table_name, con=engine)\n",
    "    return df"
   ]
  },
  {
   "cell_type": "markdown",
   "metadata": {},
   "source": [
    " Tutaj zaczytaj zapisaną wcześniej ramkę danych `flight_df` do zmniennej o takiej samej nazwie"
   ]
  },
  {
   "cell_type": "code",
   "execution_count": 152,
   "metadata": {},
   "outputs": [],
   "source": [
    "\n",
    "flight_df = pd.read_csv('/Users/aleksandraobrzut/Documents/Pliki_do_Portfolio_Lab/data/processed/flight_df_02.csv')\n"
   ]
  },
  {
   "cell_type": "code",
   "execution_count": 153,
   "metadata": {},
   "outputs": [
    {
     "data": {
      "text/plain": [
       "Index(['id', 'month', 'day_of_month', 'day_of_week', 'op_unique_carrier',\n",
       "       'tail_num', 'op_carrier_fl_num', 'origin_airport_id', 'dest_airport_id',\n",
       "       'crs_dep_time', 'dep_time', 'dep_delay', 'dep_time_blk', 'crs_arr_time',\n",
       "       'arr_time', 'arr_delay_new', 'arr_time_blk', 'cancelled',\n",
       "       'crs_elapsed_time', 'actual_elapsed_time', 'distance', 'distance_group',\n",
       "       'carrier_delay', 'weather_delay', 'nas_delay', 'security_delay',\n",
       "       'late_aircraft_delay', 'year', 'is_delayed', 'is_weekend',\n",
       "       'distance_agg', 'manufacture_year', 'manufacture_year_agg',\n",
       "       'delay_ration', 'delay_ratio'],\n",
       "      dtype='object')"
      ]
     },
     "execution_count": 153,
     "metadata": {},
     "output_type": "execute_result"
    }
   ],
   "source": [
    "flight_df.columns"
   ]
  },
  {
   "cell_type": "markdown",
   "metadata": {},
   "source": [
    " # Wzbogacenie o `airport_list`\n",
    " Wczytaj do obszaru roboczego tabelę `airport_list` używając procedury `read_sql_table`. Wykonaj poniższe ćwiczenia:  \n",
    " 1. Sprawdź, czy klucz `origin_airport_id` jest unikalny, tj. nie ma dwóch takich samych wartości w kolumnie `origin_airport_id`.  \n",
    " 1. Jeżeli duplikaty występują, usuń je w najdogodniejszy dla Ciebie sposób.  \n",
    " 1. Jeśli duplikaty nie występują, złącz ramki `airport_list_df` wraz z aktualną `flight_df`, używając kolumny `origin_airport_id` oraz złączenia typu `LEFT JOIN`. Z ramki `airport_list_df` interesuje nas dodanie kolumny `origin_city_name`.  \n",
    " 1. Dodatkowo dokonaj jeszcze raz złączenia ramki `flight_df` z `airport_list_df`, tym razem jednak złącz kolumnę `destination_airport_id` wraz z `origin_airport_id`. Podobnie jak wcześniej, interesuje nas kolumna `origin_city_name`, jedank ona powinna zostać wyświetlona jako `destination_city_name`"
   ]
  },
  {
   "cell_type": "markdown",
   "metadata": {},
   "source": [
    " Tutaj wczytaj ramkę `airport_list_df`"
   ]
  },
  {
   "cell_type": "code",
   "execution_count": 237,
   "metadata": {},
   "outputs": [],
   "source": [
    " airport_list_df = pd.read_sql_table('airport_list', engine)\n"
   ]
  },
  {
   "cell_type": "markdown",
   "metadata": {},
   "source": [
    " Tutaj sprawdż, czy występują duplikaty dla kolumny `origin_airport_id`"
   ]
  },
  {
   "cell_type": "code",
   "execution_count": 155,
   "metadata": {},
   "outputs": [
    {
     "data": {
      "text/plain": [
       "False"
      ]
     },
     "execution_count": 155,
     "metadata": {},
     "output_type": "execute_result"
    }
   ],
   "source": [
    "duplicates_exist = airport_list_df['origin_airport_id'].duplicated().any()\n",
    "duplicates_exist"
   ]
  },
  {
   "cell_type": "markdown",
   "metadata": {},
   "source": [
    " Tutaj usuń duplikaty – jeśli występują"
   ]
  },
  {
   "cell_type": "code",
   "execution_count": 123,
   "metadata": {},
   "outputs": [],
   "source": [
    "# w ramce danych nie wsytępują duplikaty, ale jeśli by się znalazły to usuneliśbymy je za pomocą:\n",
    "\n",
    "if duplicates_exist:\n",
    "    airport_list_df = airport_list_df.drop_duplicates(subset='origin_airport_id')\n"
   ]
  },
  {
   "cell_type": "markdown",
   "metadata": {},
   "source": [
    " Tutaj dokonaj złączenia ramki `flight_df` oraz `airport_list_df` używając `origin_airport_id`"
   ]
  },
  {
   "cell_type": "code",
   "execution_count": 156,
   "metadata": {},
   "outputs": [
    {
     "data": {
      "text/plain": [
       "Index(['id', 'origin_airport_id', 'display_airport_name', 'origin_city_name',\n",
       "       'name'],\n",
       "      dtype='object')"
      ]
     },
     "execution_count": 156,
     "metadata": {},
     "output_type": "execute_result"
    }
   ],
   "source": [
    "airport_list_df.columns"
   ]
  },
  {
   "cell_type": "code",
   "execution_count": 125,
   "metadata": {},
   "outputs": [],
   "source": [
    "#flight_df = pd.merge(flight_df, airport_list_df[['origin_airport_id', 'origin_city_name']], how='left', on='origin_airport_id')\n"
   ]
  },
  {
   "cell_type": "code",
   "execution_count": 157,
   "metadata": {},
   "outputs": [],
   "source": [
    "flight_df = pd.merge(flight_df, airport_list_df[['origin_airport_id', 'origin_city_name']], how='left', left_on='origin_airport_id', right_on='origin_airport_id')"
   ]
  },
  {
   "cell_type": "code",
   "execution_count": 158,
   "metadata": {},
   "outputs": [
    {
     "data": {
      "text/html": [
       "<div>\n",
       "<style scoped>\n",
       "    .dataframe tbody tr th:only-of-type {\n",
       "        vertical-align: middle;\n",
       "    }\n",
       "\n",
       "    .dataframe tbody tr th {\n",
       "        vertical-align: top;\n",
       "    }\n",
       "\n",
       "    .dataframe thead th {\n",
       "        text-align: right;\n",
       "    }\n",
       "</style>\n",
       "<table border=\"1\" class=\"dataframe\">\n",
       "  <thead>\n",
       "    <tr style=\"text-align: right;\">\n",
       "      <th></th>\n",
       "      <th>id</th>\n",
       "      <th>month</th>\n",
       "      <th>day_of_month</th>\n",
       "      <th>day_of_week</th>\n",
       "      <th>op_unique_carrier</th>\n",
       "      <th>tail_num</th>\n",
       "      <th>op_carrier_fl_num</th>\n",
       "      <th>origin_airport_id</th>\n",
       "      <th>dest_airport_id</th>\n",
       "      <th>crs_dep_time</th>\n",
       "      <th>...</th>\n",
       "      <th>late_aircraft_delay</th>\n",
       "      <th>year</th>\n",
       "      <th>is_delayed</th>\n",
       "      <th>is_weekend</th>\n",
       "      <th>distance_agg</th>\n",
       "      <th>manufacture_year</th>\n",
       "      <th>manufacture_year_agg</th>\n",
       "      <th>delay_ration</th>\n",
       "      <th>delay_ratio</th>\n",
       "      <th>origin_city_name</th>\n",
       "    </tr>\n",
       "  </thead>\n",
       "  <tbody>\n",
       "    <tr>\n",
       "      <th>0</th>\n",
       "      <td>1</td>\n",
       "      <td>1</td>\n",
       "      <td>20</td>\n",
       "      <td>7</td>\n",
       "      <td>WN</td>\n",
       "      <td>N204WN</td>\n",
       "      <td>682</td>\n",
       "      <td>10397</td>\n",
       "      <td>11292</td>\n",
       "      <td>605</td>\n",
       "      <td>...</td>\n",
       "      <td>NaN</td>\n",
       "      <td>2019</td>\n",
       "      <td>False</td>\n",
       "      <td>True</td>\n",
       "      <td>(1100, 1200]</td>\n",
       "      <td>2005.0</td>\n",
       "      <td>2004.0</td>\n",
       "      <td>0.13</td>\n",
       "      <td>0.13</td>\n",
       "      <td>Atlanta, GA</td>\n",
       "    </tr>\n",
       "    <tr>\n",
       "      <th>1</th>\n",
       "      <td>2</td>\n",
       "      <td>1</td>\n",
       "      <td>20</td>\n",
       "      <td>7</td>\n",
       "      <td>WN</td>\n",
       "      <td>N8682B</td>\n",
       "      <td>2622</td>\n",
       "      <td>10397</td>\n",
       "      <td>11292</td>\n",
       "      <td>2120</td>\n",
       "      <td>...</td>\n",
       "      <td>NaN</td>\n",
       "      <td>2019</td>\n",
       "      <td>False</td>\n",
       "      <td>True</td>\n",
       "      <td>(1100, 1200]</td>\n",
       "      <td>2016.0</td>\n",
       "      <td>2016.0</td>\n",
       "      <td>0.18</td>\n",
       "      <td>0.18</td>\n",
       "      <td>Atlanta, GA</td>\n",
       "    </tr>\n",
       "    <tr>\n",
       "      <th>2</th>\n",
       "      <td>3</td>\n",
       "      <td>1</td>\n",
       "      <td>20</td>\n",
       "      <td>7</td>\n",
       "      <td>WN</td>\n",
       "      <td>N717SA</td>\n",
       "      <td>2939</td>\n",
       "      <td>10397</td>\n",
       "      <td>11292</td>\n",
       "      <td>1800</td>\n",
       "      <td>...</td>\n",
       "      <td>3.0</td>\n",
       "      <td>2019</td>\n",
       "      <td>False</td>\n",
       "      <td>True</td>\n",
       "      <td>(1100, 1200]</td>\n",
       "      <td>1998.0</td>\n",
       "      <td>1998.0</td>\n",
       "      <td>0.15</td>\n",
       "      <td>0.15</td>\n",
       "      <td>Atlanta, GA</td>\n",
       "    </tr>\n",
       "    <tr>\n",
       "      <th>3</th>\n",
       "      <td>4</td>\n",
       "      <td>1</td>\n",
       "      <td>20</td>\n",
       "      <td>7</td>\n",
       "      <td>WN</td>\n",
       "      <td>N709SW</td>\n",
       "      <td>3848</td>\n",
       "      <td>10397</td>\n",
       "      <td>11292</td>\n",
       "      <td>1355</td>\n",
       "      <td>...</td>\n",
       "      <td>NaN</td>\n",
       "      <td>2019</td>\n",
       "      <td>False</td>\n",
       "      <td>True</td>\n",
       "      <td>(1100, 1200]</td>\n",
       "      <td>1998.0</td>\n",
       "      <td>1998.0</td>\n",
       "      <td>0.16</td>\n",
       "      <td>0.16</td>\n",
       "      <td>Atlanta, GA</td>\n",
       "    </tr>\n",
       "    <tr>\n",
       "      <th>4</th>\n",
       "      <td>5</td>\n",
       "      <td>1</td>\n",
       "      <td>20</td>\n",
       "      <td>7</td>\n",
       "      <td>WN</td>\n",
       "      <td>N7864B</td>\n",
       "      <td>1352</td>\n",
       "      <td>10397</td>\n",
       "      <td>11697</td>\n",
       "      <td>1125</td>\n",
       "      <td>...</td>\n",
       "      <td>NaN</td>\n",
       "      <td>2019</td>\n",
       "      <td>False</td>\n",
       "      <td>True</td>\n",
       "      <td>(500, 600]</td>\n",
       "      <td>2001.0</td>\n",
       "      <td>2001.0</td>\n",
       "      <td>0.18</td>\n",
       "      <td>0.18</td>\n",
       "      <td>Atlanta, GA</td>\n",
       "    </tr>\n",
       "  </tbody>\n",
       "</table>\n",
       "<p>5 rows × 36 columns</p>\n",
       "</div>"
      ],
      "text/plain": [
       "   id  month  day_of_month  day_of_week op_unique_carrier tail_num  \\\n",
       "0   1      1            20            7                WN   N204WN   \n",
       "1   2      1            20            7                WN   N8682B   \n",
       "2   3      1            20            7                WN   N717SA   \n",
       "3   4      1            20            7                WN   N709SW   \n",
       "4   5      1            20            7                WN   N7864B   \n",
       "\n",
       "   op_carrier_fl_num  origin_airport_id  dest_airport_id  crs_dep_time  ...  \\\n",
       "0                682              10397            11292           605  ...   \n",
       "1               2622              10397            11292          2120  ...   \n",
       "2               2939              10397            11292          1800  ...   \n",
       "3               3848              10397            11292          1355  ...   \n",
       "4               1352              10397            11697          1125  ...   \n",
       "\n",
       "   late_aircraft_delay  year is_delayed  is_weekend  distance_agg  \\\n",
       "0                  NaN  2019      False        True  (1100, 1200]   \n",
       "1                  NaN  2019      False        True  (1100, 1200]   \n",
       "2                  3.0  2019      False        True  (1100, 1200]   \n",
       "3                  NaN  2019      False        True  (1100, 1200]   \n",
       "4                  NaN  2019      False        True    (500, 600]   \n",
       "\n",
       "   manufacture_year manufacture_year_agg  delay_ration  delay_ratio  \\\n",
       "0            2005.0               2004.0          0.13         0.13   \n",
       "1            2016.0               2016.0          0.18         0.18   \n",
       "2            1998.0               1998.0          0.15         0.15   \n",
       "3            1998.0               1998.0          0.16         0.16   \n",
       "4            2001.0               2001.0          0.18         0.18   \n",
       "\n",
       "   origin_city_name  \n",
       "0       Atlanta, GA  \n",
       "1       Atlanta, GA  \n",
       "2       Atlanta, GA  \n",
       "3       Atlanta, GA  \n",
       "4       Atlanta, GA  \n",
       "\n",
       "[5 rows x 36 columns]"
      ]
     },
     "execution_count": 158,
     "metadata": {},
     "output_type": "execute_result"
    }
   ],
   "source": [
    "flight_df.head()"
   ]
  },
  {
   "cell_type": "code",
   "execution_count": 159,
   "metadata": {
    "scrolled": true
   },
   "outputs": [
    {
     "data": {
      "text/plain": [
       "Index(['id', 'month', 'day_of_month', 'day_of_week', 'op_unique_carrier',\n",
       "       'tail_num', 'op_carrier_fl_num', 'origin_airport_id', 'dest_airport_id',\n",
       "       'crs_dep_time', 'dep_time', 'dep_delay', 'dep_time_blk', 'crs_arr_time',\n",
       "       'arr_time', 'arr_delay_new', 'arr_time_blk', 'cancelled',\n",
       "       'crs_elapsed_time', 'actual_elapsed_time', 'distance', 'distance_group',\n",
       "       'carrier_delay', 'weather_delay', 'nas_delay', 'security_delay',\n",
       "       'late_aircraft_delay', 'year', 'is_delayed', 'is_weekend',\n",
       "       'distance_agg', 'manufacture_year', 'manufacture_year_agg',\n",
       "       'delay_ration', 'delay_ratio', 'origin_city_name'],\n",
       "      dtype='object')"
      ]
     },
     "execution_count": 159,
     "metadata": {},
     "output_type": "execute_result"
    }
   ],
   "source": [
    "flight_df.columns"
   ]
  },
  {
   "cell_type": "markdown",
   "metadata": {},
   "source": [
    " Tutaj dokonaj złączenia ramki `flight_df` oraz `airport_list_df` używając `destination_airport_id`"
   ]
  },
  {
   "cell_type": "code",
   "execution_count": 167,
   "metadata": {},
   "outputs": [],
   "source": [
    "#flight_df = pd.merge(flight_df, airport_list_df[['origin_airport_id', 'origin_city_name']], how='left', left_on='dest_airport_id', right_on='origin_airport_id')\n"
   ]
  },
  {
   "cell_type": "code",
   "execution_count": 168,
   "metadata": {},
   "outputs": [],
   "source": [
    "#flight_df.head()"
   ]
  },
  {
   "cell_type": "code",
   "execution_count": 169,
   "metadata": {},
   "outputs": [],
   "source": [
    "# Złączenie flight_df z airport_list_df po origin_airport_id\n",
    "flight_df = pd.merge(flight_df, airport_list_df[['origin_airport_id', 'origin_city_name']], how='left', left_on='origin_airport_id', right_on='origin_airport_id')\n",
    "\n",
    "# Złączenie flight_df z airport_list_df po destination_airport_id\n",
    "flight_df = pd.merge(flight_df, airport_list_df[['origin_airport_id', 'origin_city_name']], how='left', left_on='dest_airport_id', right_on='origin_airport_id')\n",
    "\n",
    "# Zmiana nazw kolumn, aby odróżnić origin i destination\n",
    "flight_df = flight_df.rename(columns={'origin_city_name_x': 'origin_city_name', 'origin_city_name_y': 'destination_city_name'})\n"
   ]
  },
  {
   "cell_type": "code",
   "execution_count": 170,
   "metadata": {},
   "outputs": [
    {
     "data": {
      "text/html": [
       "<div>\n",
       "<style scoped>\n",
       "    .dataframe tbody tr th:only-of-type {\n",
       "        vertical-align: middle;\n",
       "    }\n",
       "\n",
       "    .dataframe tbody tr th {\n",
       "        vertical-align: top;\n",
       "    }\n",
       "\n",
       "    .dataframe thead th {\n",
       "        text-align: right;\n",
       "    }\n",
       "</style>\n",
       "<table border=\"1\" class=\"dataframe\">\n",
       "  <thead>\n",
       "    <tr style=\"text-align: right;\">\n",
       "      <th></th>\n",
       "      <th>id</th>\n",
       "      <th>month</th>\n",
       "      <th>day_of_month</th>\n",
       "      <th>day_of_week</th>\n",
       "      <th>op_unique_carrier</th>\n",
       "      <th>tail_num</th>\n",
       "      <th>op_carrier_fl_num</th>\n",
       "      <th>origin_airport_id_x</th>\n",
       "      <th>dest_airport_id</th>\n",
       "      <th>crs_dep_time</th>\n",
       "      <th>...</th>\n",
       "      <th>manufacture_year</th>\n",
       "      <th>manufacture_year_agg</th>\n",
       "      <th>delay_ration</th>\n",
       "      <th>delay_ratio</th>\n",
       "      <th>origin_city_name</th>\n",
       "      <th>destination_city_name</th>\n",
       "      <th>origin_city_name</th>\n",
       "      <th>destination_city_name</th>\n",
       "      <th>origin_airport_id_y</th>\n",
       "      <th>origin_city_name</th>\n",
       "    </tr>\n",
       "  </thead>\n",
       "  <tbody>\n",
       "    <tr>\n",
       "      <th>0</th>\n",
       "      <td>1</td>\n",
       "      <td>1</td>\n",
       "      <td>20</td>\n",
       "      <td>7</td>\n",
       "      <td>WN</td>\n",
       "      <td>N204WN</td>\n",
       "      <td>682</td>\n",
       "      <td>10397</td>\n",
       "      <td>11292</td>\n",
       "      <td>605</td>\n",
       "      <td>...</td>\n",
       "      <td>2005.0</td>\n",
       "      <td>2004.0</td>\n",
       "      <td>0.13</td>\n",
       "      <td>0.13</td>\n",
       "      <td>Atlanta, GA</td>\n",
       "      <td>Atlanta, GA</td>\n",
       "      <td>Denver, CO</td>\n",
       "      <td>Atlanta, GA</td>\n",
       "      <td>11292.0</td>\n",
       "      <td>Denver, CO</td>\n",
       "    </tr>\n",
       "    <tr>\n",
       "      <th>1</th>\n",
       "      <td>2</td>\n",
       "      <td>1</td>\n",
       "      <td>20</td>\n",
       "      <td>7</td>\n",
       "      <td>WN</td>\n",
       "      <td>N8682B</td>\n",
       "      <td>2622</td>\n",
       "      <td>10397</td>\n",
       "      <td>11292</td>\n",
       "      <td>2120</td>\n",
       "      <td>...</td>\n",
       "      <td>2016.0</td>\n",
       "      <td>2016.0</td>\n",
       "      <td>0.18</td>\n",
       "      <td>0.18</td>\n",
       "      <td>Atlanta, GA</td>\n",
       "      <td>Atlanta, GA</td>\n",
       "      <td>Denver, CO</td>\n",
       "      <td>Atlanta, GA</td>\n",
       "      <td>11292.0</td>\n",
       "      <td>Denver, CO</td>\n",
       "    </tr>\n",
       "    <tr>\n",
       "      <th>2</th>\n",
       "      <td>3</td>\n",
       "      <td>1</td>\n",
       "      <td>20</td>\n",
       "      <td>7</td>\n",
       "      <td>WN</td>\n",
       "      <td>N717SA</td>\n",
       "      <td>2939</td>\n",
       "      <td>10397</td>\n",
       "      <td>11292</td>\n",
       "      <td>1800</td>\n",
       "      <td>...</td>\n",
       "      <td>1998.0</td>\n",
       "      <td>1998.0</td>\n",
       "      <td>0.15</td>\n",
       "      <td>0.15</td>\n",
       "      <td>Atlanta, GA</td>\n",
       "      <td>Atlanta, GA</td>\n",
       "      <td>Denver, CO</td>\n",
       "      <td>Atlanta, GA</td>\n",
       "      <td>11292.0</td>\n",
       "      <td>Denver, CO</td>\n",
       "    </tr>\n",
       "    <tr>\n",
       "      <th>3</th>\n",
       "      <td>4</td>\n",
       "      <td>1</td>\n",
       "      <td>20</td>\n",
       "      <td>7</td>\n",
       "      <td>WN</td>\n",
       "      <td>N709SW</td>\n",
       "      <td>3848</td>\n",
       "      <td>10397</td>\n",
       "      <td>11292</td>\n",
       "      <td>1355</td>\n",
       "      <td>...</td>\n",
       "      <td>1998.0</td>\n",
       "      <td>1998.0</td>\n",
       "      <td>0.16</td>\n",
       "      <td>0.16</td>\n",
       "      <td>Atlanta, GA</td>\n",
       "      <td>Atlanta, GA</td>\n",
       "      <td>Denver, CO</td>\n",
       "      <td>Atlanta, GA</td>\n",
       "      <td>11292.0</td>\n",
       "      <td>Denver, CO</td>\n",
       "    </tr>\n",
       "    <tr>\n",
       "      <th>4</th>\n",
       "      <td>5</td>\n",
       "      <td>1</td>\n",
       "      <td>20</td>\n",
       "      <td>7</td>\n",
       "      <td>WN</td>\n",
       "      <td>N7864B</td>\n",
       "      <td>1352</td>\n",
       "      <td>10397</td>\n",
       "      <td>11697</td>\n",
       "      <td>1125</td>\n",
       "      <td>...</td>\n",
       "      <td>2001.0</td>\n",
       "      <td>2001.0</td>\n",
       "      <td>0.18</td>\n",
       "      <td>0.18</td>\n",
       "      <td>Atlanta, GA</td>\n",
       "      <td>Atlanta, GA</td>\n",
       "      <td>Fort Lauderdale, FL</td>\n",
       "      <td>Atlanta, GA</td>\n",
       "      <td>11697.0</td>\n",
       "      <td>Fort Lauderdale, FL</td>\n",
       "    </tr>\n",
       "  </tbody>\n",
       "</table>\n",
       "<p>5 rows × 41 columns</p>\n",
       "</div>"
      ],
      "text/plain": [
       "   id  month  day_of_month  day_of_week op_unique_carrier tail_num  \\\n",
       "0   1      1            20            7                WN   N204WN   \n",
       "1   2      1            20            7                WN   N8682B   \n",
       "2   3      1            20            7                WN   N717SA   \n",
       "3   4      1            20            7                WN   N709SW   \n",
       "4   5      1            20            7                WN   N7864B   \n",
       "\n",
       "   op_carrier_fl_num  origin_airport_id_x  dest_airport_id  crs_dep_time  ...  \\\n",
       "0                682                10397            11292           605  ...   \n",
       "1               2622                10397            11292          2120  ...   \n",
       "2               2939                10397            11292          1800  ...   \n",
       "3               3848                10397            11292          1355  ...   \n",
       "4               1352                10397            11697          1125  ...   \n",
       "\n",
       "   manufacture_year  manufacture_year_agg delay_ration  delay_ratio  \\\n",
       "0            2005.0                2004.0         0.13         0.13   \n",
       "1            2016.0                2016.0         0.18         0.18   \n",
       "2            1998.0                1998.0         0.15         0.15   \n",
       "3            1998.0                1998.0         0.16         0.16   \n",
       "4            2001.0                2001.0         0.18         0.18   \n",
       "\n",
       "   origin_city_name  destination_city_name     origin_city_name  \\\n",
       "0       Atlanta, GA            Atlanta, GA           Denver, CO   \n",
       "1       Atlanta, GA            Atlanta, GA           Denver, CO   \n",
       "2       Atlanta, GA            Atlanta, GA           Denver, CO   \n",
       "3       Atlanta, GA            Atlanta, GA           Denver, CO   \n",
       "4       Atlanta, GA            Atlanta, GA  Fort Lauderdale, FL   \n",
       "\n",
       "   destination_city_name  origin_airport_id_y     origin_city_name  \n",
       "0            Atlanta, GA              11292.0           Denver, CO  \n",
       "1            Atlanta, GA              11292.0           Denver, CO  \n",
       "2            Atlanta, GA              11292.0           Denver, CO  \n",
       "3            Atlanta, GA              11292.0           Denver, CO  \n",
       "4            Atlanta, GA              11697.0  Fort Lauderdale, FL  \n",
       "\n",
       "[5 rows x 41 columns]"
      ]
     },
     "execution_count": 170,
     "metadata": {},
     "output_type": "execute_result"
    }
   ],
   "source": [
    "flight_df.head()"
   ]
  },
  {
   "cell_type": "code",
   "execution_count": 171,
   "metadata": {},
   "outputs": [],
   "source": [
    "# Usunięcie kolumny origin_airport_id_y (jest nam nieppotrzebna to jest to samo co jest w orogin_airport_x)\n",
    "flight_df = flight_df.drop(columns=['origin_airport_id_y'])\n",
    "\n",
    "\n",
    "# zmiana nazwy kolumny origin_airport_id_x na origin_airport_id (oryginalna nazwa będzie bardziej przydatna niż ta)\n",
    "flight_df = flight_df.rename(columns={'origin_airport_id_x': 'origin_airport_id'})\n"
   ]
  },
  {
   "cell_type": "code",
   "execution_count": 172,
   "metadata": {},
   "outputs": [
    {
     "data": {
      "text/html": [
       "<div>\n",
       "<style scoped>\n",
       "    .dataframe tbody tr th:only-of-type {\n",
       "        vertical-align: middle;\n",
       "    }\n",
       "\n",
       "    .dataframe tbody tr th {\n",
       "        vertical-align: top;\n",
       "    }\n",
       "\n",
       "    .dataframe thead th {\n",
       "        text-align: right;\n",
       "    }\n",
       "</style>\n",
       "<table border=\"1\" class=\"dataframe\">\n",
       "  <thead>\n",
       "    <tr style=\"text-align: right;\">\n",
       "      <th></th>\n",
       "      <th>id</th>\n",
       "      <th>month</th>\n",
       "      <th>day_of_month</th>\n",
       "      <th>day_of_week</th>\n",
       "      <th>op_unique_carrier</th>\n",
       "      <th>tail_num</th>\n",
       "      <th>op_carrier_fl_num</th>\n",
       "      <th>origin_airport_id</th>\n",
       "      <th>dest_airport_id</th>\n",
       "      <th>crs_dep_time</th>\n",
       "      <th>...</th>\n",
       "      <th>distance_agg</th>\n",
       "      <th>manufacture_year</th>\n",
       "      <th>manufacture_year_agg</th>\n",
       "      <th>delay_ration</th>\n",
       "      <th>delay_ratio</th>\n",
       "      <th>origin_city_name</th>\n",
       "      <th>destination_city_name</th>\n",
       "      <th>origin_city_name</th>\n",
       "      <th>destination_city_name</th>\n",
       "      <th>origin_city_name</th>\n",
       "    </tr>\n",
       "  </thead>\n",
       "  <tbody>\n",
       "    <tr>\n",
       "      <th>0</th>\n",
       "      <td>1</td>\n",
       "      <td>1</td>\n",
       "      <td>20</td>\n",
       "      <td>7</td>\n",
       "      <td>WN</td>\n",
       "      <td>N204WN</td>\n",
       "      <td>682</td>\n",
       "      <td>10397</td>\n",
       "      <td>11292</td>\n",
       "      <td>605</td>\n",
       "      <td>...</td>\n",
       "      <td>(1100, 1200]</td>\n",
       "      <td>2005.0</td>\n",
       "      <td>2004.0</td>\n",
       "      <td>0.13</td>\n",
       "      <td>0.13</td>\n",
       "      <td>Atlanta, GA</td>\n",
       "      <td>Atlanta, GA</td>\n",
       "      <td>Denver, CO</td>\n",
       "      <td>Atlanta, GA</td>\n",
       "      <td>Denver, CO</td>\n",
       "    </tr>\n",
       "    <tr>\n",
       "      <th>1</th>\n",
       "      <td>2</td>\n",
       "      <td>1</td>\n",
       "      <td>20</td>\n",
       "      <td>7</td>\n",
       "      <td>WN</td>\n",
       "      <td>N8682B</td>\n",
       "      <td>2622</td>\n",
       "      <td>10397</td>\n",
       "      <td>11292</td>\n",
       "      <td>2120</td>\n",
       "      <td>...</td>\n",
       "      <td>(1100, 1200]</td>\n",
       "      <td>2016.0</td>\n",
       "      <td>2016.0</td>\n",
       "      <td>0.18</td>\n",
       "      <td>0.18</td>\n",
       "      <td>Atlanta, GA</td>\n",
       "      <td>Atlanta, GA</td>\n",
       "      <td>Denver, CO</td>\n",
       "      <td>Atlanta, GA</td>\n",
       "      <td>Denver, CO</td>\n",
       "    </tr>\n",
       "    <tr>\n",
       "      <th>2</th>\n",
       "      <td>3</td>\n",
       "      <td>1</td>\n",
       "      <td>20</td>\n",
       "      <td>7</td>\n",
       "      <td>WN</td>\n",
       "      <td>N717SA</td>\n",
       "      <td>2939</td>\n",
       "      <td>10397</td>\n",
       "      <td>11292</td>\n",
       "      <td>1800</td>\n",
       "      <td>...</td>\n",
       "      <td>(1100, 1200]</td>\n",
       "      <td>1998.0</td>\n",
       "      <td>1998.0</td>\n",
       "      <td>0.15</td>\n",
       "      <td>0.15</td>\n",
       "      <td>Atlanta, GA</td>\n",
       "      <td>Atlanta, GA</td>\n",
       "      <td>Denver, CO</td>\n",
       "      <td>Atlanta, GA</td>\n",
       "      <td>Denver, CO</td>\n",
       "    </tr>\n",
       "    <tr>\n",
       "      <th>3</th>\n",
       "      <td>4</td>\n",
       "      <td>1</td>\n",
       "      <td>20</td>\n",
       "      <td>7</td>\n",
       "      <td>WN</td>\n",
       "      <td>N709SW</td>\n",
       "      <td>3848</td>\n",
       "      <td>10397</td>\n",
       "      <td>11292</td>\n",
       "      <td>1355</td>\n",
       "      <td>...</td>\n",
       "      <td>(1100, 1200]</td>\n",
       "      <td>1998.0</td>\n",
       "      <td>1998.0</td>\n",
       "      <td>0.16</td>\n",
       "      <td>0.16</td>\n",
       "      <td>Atlanta, GA</td>\n",
       "      <td>Atlanta, GA</td>\n",
       "      <td>Denver, CO</td>\n",
       "      <td>Atlanta, GA</td>\n",
       "      <td>Denver, CO</td>\n",
       "    </tr>\n",
       "    <tr>\n",
       "      <th>4</th>\n",
       "      <td>5</td>\n",
       "      <td>1</td>\n",
       "      <td>20</td>\n",
       "      <td>7</td>\n",
       "      <td>WN</td>\n",
       "      <td>N7864B</td>\n",
       "      <td>1352</td>\n",
       "      <td>10397</td>\n",
       "      <td>11697</td>\n",
       "      <td>1125</td>\n",
       "      <td>...</td>\n",
       "      <td>(500, 600]</td>\n",
       "      <td>2001.0</td>\n",
       "      <td>2001.0</td>\n",
       "      <td>0.18</td>\n",
       "      <td>0.18</td>\n",
       "      <td>Atlanta, GA</td>\n",
       "      <td>Atlanta, GA</td>\n",
       "      <td>Fort Lauderdale, FL</td>\n",
       "      <td>Atlanta, GA</td>\n",
       "      <td>Fort Lauderdale, FL</td>\n",
       "    </tr>\n",
       "  </tbody>\n",
       "</table>\n",
       "<p>5 rows × 40 columns</p>\n",
       "</div>"
      ],
      "text/plain": [
       "   id  month  day_of_month  day_of_week op_unique_carrier tail_num  \\\n",
       "0   1      1            20            7                WN   N204WN   \n",
       "1   2      1            20            7                WN   N8682B   \n",
       "2   3      1            20            7                WN   N717SA   \n",
       "3   4      1            20            7                WN   N709SW   \n",
       "4   5      1            20            7                WN   N7864B   \n",
       "\n",
       "   op_carrier_fl_num  origin_airport_id  dest_airport_id  crs_dep_time  ...  \\\n",
       "0                682              10397            11292           605  ...   \n",
       "1               2622              10397            11292          2120  ...   \n",
       "2               2939              10397            11292          1800  ...   \n",
       "3               3848              10397            11292          1355  ...   \n",
       "4               1352              10397            11697          1125  ...   \n",
       "\n",
       "   distance_agg  manufacture_year manufacture_year_agg  delay_ration  \\\n",
       "0  (1100, 1200]            2005.0               2004.0          0.13   \n",
       "1  (1100, 1200]            2016.0               2016.0          0.18   \n",
       "2  (1100, 1200]            1998.0               1998.0          0.15   \n",
       "3  (1100, 1200]            1998.0               1998.0          0.16   \n",
       "4    (500, 600]            2001.0               2001.0          0.18   \n",
       "\n",
       "   delay_ratio  origin_city_name  destination_city_name     origin_city_name  \\\n",
       "0         0.13       Atlanta, GA            Atlanta, GA           Denver, CO   \n",
       "1         0.18       Atlanta, GA            Atlanta, GA           Denver, CO   \n",
       "2         0.15       Atlanta, GA            Atlanta, GA           Denver, CO   \n",
       "3         0.16       Atlanta, GA            Atlanta, GA           Denver, CO   \n",
       "4         0.18       Atlanta, GA            Atlanta, GA  Fort Lauderdale, FL   \n",
       "\n",
       "   destination_city_name     origin_city_name  \n",
       "0            Atlanta, GA           Denver, CO  \n",
       "1            Atlanta, GA           Denver, CO  \n",
       "2            Atlanta, GA           Denver, CO  \n",
       "3            Atlanta, GA           Denver, CO  \n",
       "4            Atlanta, GA  Fort Lauderdale, FL  \n",
       "\n",
       "[5 rows x 40 columns]"
      ]
     },
     "execution_count": 172,
     "metadata": {},
     "output_type": "execute_result"
    }
   ],
   "source": [
    "flight_df.head()"
   ]
  },
  {
   "cell_type": "markdown",
   "metadata": {},
   "source": [
    "### Sprawdzenie\n",
    "Uruchom kod poniżej, aby sprawdzić, czy ta część została poprawnie wykonana"
   ]
  },
  {
   "cell_type": "code",
   "execution_count": 173,
   "metadata": {},
   "outputs": [],
   "source": [
    "assert 'origin_city_name' in flight_df.columns, 'Brak kolumny `origin_city_name` w ramce flight_df'\n",
    "assert 'destination_city_name' in flight_df.columns, 'Brak kolumny `destination_city_name` w ramce flight_df'\n",
    "\n",
    "flight_df_expected_rows_amount = 1057391\n",
    "assert flight_df.shape[0] == flight_df_expected_rows_amount, 'Ups, zmieniła się liczba wierszy...'"
   ]
  },
  {
   "cell_type": "markdown",
   "metadata": {},
   "source": [
    " ## Analiza według lotnisk oraz tras\n",
    " Wykonaj poniższe polecenia:  \n",
    " 1. Wyznacz lotniska, z których **odlatywało** najwięcej samolotów. Wynik zapisz do ramki `top_airports_origin_df`.\n",
    " 1. Wyznacz lotnika, na których najwięcej lotów **się kończyło**. Wynik zapisz do ramki `top_airports_destination_df`.  \n",
    " 1. Wyznacz najczęściej uczęszczaną trasę, wynik zapisz do ramki `top_route_df`.  \n",
    " 1. Przy założeniu, że reprezentatywna liczba lotów na trasie wynosi ponad 500, wyznacz dodatkowo top 10:  \n",
    "     - tras z **najmniejszym odsetkiem opóźnień**, wynik zapisz do ramki `least_route_delays_df`.  \n",
    "     - tras z **największym odsetkiem opóźnień**, wynik zapisz do ramki `top_route_delays_df`."
   ]
  },
  {
   "cell_type": "markdown",
   "metadata": {},
   "source": [
    " Tutaj wyznacz ramkę `top_airports_origin_df`"
   ]
  },
  {
   "cell_type": "code",
   "execution_count": 174,
   "metadata": {},
   "outputs": [],
   "source": [
    "top_airports_origin_df = flight_df['origin_airport_id'].value_counts().reset_index()\n",
    "top_airports_origin_df.columns = ['origin_airport_id', 'total_departures']\n",
    "\n",
    "#powyższy kod wcześniej działał, a po uruchomieniu komórek od nowa nie działa, z uwagi na to, że w dalszych operacjach trochę namieszałam z tymi kolumnami \n",
    "#dodajemy kolumnę na nowo"
   ]
  },
  {
   "cell_type": "code",
   "execution_count": 176,
   "metadata": {},
   "outputs": [
    {
     "data": {
      "text/html": [
       "<div>\n",
       "<style scoped>\n",
       "    .dataframe tbody tr th:only-of-type {\n",
       "        vertical-align: middle;\n",
       "    }\n",
       "\n",
       "    .dataframe tbody tr th {\n",
       "        vertical-align: top;\n",
       "    }\n",
       "\n",
       "    .dataframe thead th {\n",
       "        text-align: right;\n",
       "    }\n",
       "</style>\n",
       "<table border=\"1\" class=\"dataframe\">\n",
       "  <thead>\n",
       "    <tr style=\"text-align: right;\">\n",
       "      <th></th>\n",
       "      <th>origin_airport_id</th>\n",
       "      <th>total_departures</th>\n",
       "    </tr>\n",
       "  </thead>\n",
       "  <tbody>\n",
       "    <tr>\n",
       "      <th>0</th>\n",
       "      <td>10397</td>\n",
       "      <td>123162</td>\n",
       "    </tr>\n",
       "    <tr>\n",
       "      <th>1</th>\n",
       "      <td>13930</td>\n",
       "      <td>105437</td>\n",
       "    </tr>\n",
       "    <tr>\n",
       "      <th>2</th>\n",
       "      <td>12892</td>\n",
       "      <td>87849</td>\n",
       "    </tr>\n",
       "    <tr>\n",
       "      <th>3</th>\n",
       "      <td>11292</td>\n",
       "      <td>64525</td>\n",
       "    </tr>\n",
       "    <tr>\n",
       "      <th>4</th>\n",
       "      <td>12953</td>\n",
       "      <td>57708</td>\n",
       "    </tr>\n",
       "  </tbody>\n",
       "</table>\n",
       "</div>"
      ],
      "text/plain": [
       "   origin_airport_id  total_departures\n",
       "0              10397            123162\n",
       "1              13930            105437\n",
       "2              12892             87849\n",
       "3              11292             64525\n",
       "4              12953             57708"
      ]
     },
     "execution_count": 176,
     "metadata": {},
     "output_type": "execute_result"
    }
   ],
   "source": [
    "top_airports_origin_df.head()"
   ]
  },
  {
   "cell_type": "markdown",
   "metadata": {},
   "source": [
    " Tutaj wyznacz ramkę `top_airports_destination_df`"
   ]
  },
  {
   "cell_type": "code",
   "execution_count": 177,
   "metadata": {},
   "outputs": [],
   "source": [
    "top_airports_destination_df = flight_df['dest_airport_id'].value_counts().reset_index()\n",
    "top_airports_destination_df.columns = ['dest_airport_id', 'total_arrivals']\n"
   ]
  },
  {
   "cell_type": "code",
   "execution_count": 178,
   "metadata": {},
   "outputs": [
    {
     "data": {
      "text/html": [
       "<div>\n",
       "<style scoped>\n",
       "    .dataframe tbody tr th:only-of-type {\n",
       "        vertical-align: middle;\n",
       "    }\n",
       "\n",
       "    .dataframe tbody tr th {\n",
       "        vertical-align: top;\n",
       "    }\n",
       "\n",
       "    .dataframe thead th {\n",
       "        text-align: right;\n",
       "    }\n",
       "</style>\n",
       "<table border=\"1\" class=\"dataframe\">\n",
       "  <thead>\n",
       "    <tr style=\"text-align: right;\">\n",
       "      <th></th>\n",
       "      <th>dest_airport_id</th>\n",
       "      <th>total_arrivals</th>\n",
       "    </tr>\n",
       "  </thead>\n",
       "  <tbody>\n",
       "    <tr>\n",
       "      <th>0</th>\n",
       "      <td>10397</td>\n",
       "      <td>122945</td>\n",
       "    </tr>\n",
       "    <tr>\n",
       "      <th>1</th>\n",
       "      <td>13930</td>\n",
       "      <td>100333</td>\n",
       "    </tr>\n",
       "    <tr>\n",
       "      <th>2</th>\n",
       "      <td>12892</td>\n",
       "      <td>87776</td>\n",
       "    </tr>\n",
       "    <tr>\n",
       "      <th>3</th>\n",
       "      <td>11292</td>\n",
       "      <td>64602</td>\n",
       "    </tr>\n",
       "    <tr>\n",
       "      <th>4</th>\n",
       "      <td>12953</td>\n",
       "      <td>57686</td>\n",
       "    </tr>\n",
       "  </tbody>\n",
       "</table>\n",
       "</div>"
      ],
      "text/plain": [
       "   dest_airport_id  total_arrivals\n",
       "0            10397          122945\n",
       "1            13930          100333\n",
       "2            12892           87776\n",
       "3            11292           64602\n",
       "4            12953           57686"
      ]
     },
     "execution_count": 178,
     "metadata": {},
     "output_type": "execute_result"
    }
   ],
   "source": [
    "top_airports_destination_df.head()"
   ]
  },
  {
   "cell_type": "code",
   "execution_count": 179,
   "metadata": {},
   "outputs": [],
   "source": [
    "# najczęściej uczęszczana trasa\n",
    "\n",
    "\n",
    "top_route_df = flight_df.groupby(['origin_airport_id', 'dest_airport_id']).size().reset_index(name='total_flights')\n",
    "top_route_df = top_route_df.sort_values(by='total_flights', ascending=False).head(1)\n",
    "\n"
   ]
  },
  {
   "cell_type": "code",
   "execution_count": 180,
   "metadata": {},
   "outputs": [
    {
     "data": {
      "text/html": [
       "<div>\n",
       "<style scoped>\n",
       "    .dataframe tbody tr th:only-of-type {\n",
       "        vertical-align: middle;\n",
       "    }\n",
       "\n",
       "    .dataframe tbody tr th {\n",
       "        vertical-align: top;\n",
       "    }\n",
       "\n",
       "    .dataframe thead th {\n",
       "        text-align: right;\n",
       "    }\n",
       "</style>\n",
       "<table border=\"1\" class=\"dataframe\">\n",
       "  <thead>\n",
       "    <tr style=\"text-align: right;\">\n",
       "      <th></th>\n",
       "      <th>origin_airport_id</th>\n",
       "      <th>dest_airport_id</th>\n",
       "      <th>total_flights</th>\n",
       "    </tr>\n",
       "  </thead>\n",
       "  <tbody>\n",
       "    <tr>\n",
       "      <th>113</th>\n",
       "      <td>13930</td>\n",
       "      <td>12953</td>\n",
       "      <td>14219</td>\n",
       "    </tr>\n",
       "  </tbody>\n",
       "</table>\n",
       "</div>"
      ],
      "text/plain": [
       "     origin_airport_id  dest_airport_id  total_flights\n",
       "113              13930            12953          14219"
      ]
     },
     "execution_count": 180,
     "metadata": {},
     "output_type": "execute_result"
    }
   ],
   "source": [
    "top_route_df.head()"
   ]
  },
  {
   "cell_type": "code",
   "execution_count": 181,
   "metadata": {},
   "outputs": [],
   "source": [
    "# trasy z najmniejszym odsetkiem opóźnień (przy reprezentatywnej liczbie lotów > 500)\n",
    "\n",
    "\n",
    "routes_with_enough_flights = flight_df.groupby(['origin_airport_id', 'dest_airport_id']).filter(lambda x: len(x) > 500)\n",
    "least_route_delays_df = routes_with_enough_flights.groupby(['origin_airport_id', 'dest_airport_id'])['is_delayed'].mean().reset_index()\n",
    "least_route_delays_df = least_route_delays_df.sort_values(by='is_delayed').head(10)\n"
   ]
  },
  {
   "cell_type": "code",
   "execution_count": 183,
   "metadata": {},
   "outputs": [
    {
     "data": {
      "text/html": [
       "<div>\n",
       "<style scoped>\n",
       "    .dataframe tbody tr th:only-of-type {\n",
       "        vertical-align: middle;\n",
       "    }\n",
       "\n",
       "    .dataframe tbody tr th {\n",
       "        vertical-align: top;\n",
       "    }\n",
       "\n",
       "    .dataframe thead th {\n",
       "        text-align: right;\n",
       "    }\n",
       "</style>\n",
       "<table border=\"1\" class=\"dataframe\">\n",
       "  <thead>\n",
       "    <tr style=\"text-align: right;\">\n",
       "      <th></th>\n",
       "      <th>origin_airport_id</th>\n",
       "      <th>dest_airport_id</th>\n",
       "      <th>is_delayed</th>\n",
       "    </tr>\n",
       "  </thead>\n",
       "  <tbody>\n",
       "    <tr>\n",
       "      <th>61</th>\n",
       "      <td>12173</td>\n",
       "      <td>12982</td>\n",
       "      <td>0.051153</td>\n",
       "    </tr>\n",
       "    <tr>\n",
       "      <th>66</th>\n",
       "      <td>12402</td>\n",
       "      <td>12173</td>\n",
       "      <td>0.052249</td>\n",
       "    </tr>\n",
       "    <tr>\n",
       "      <th>59</th>\n",
       "      <td>12173</td>\n",
       "      <td>12402</td>\n",
       "      <td>0.052384</td>\n",
       "    </tr>\n",
       "    <tr>\n",
       "      <th>69</th>\n",
       "      <td>12758</td>\n",
       "      <td>12173</td>\n",
       "      <td>0.053388</td>\n",
       "    </tr>\n",
       "    <tr>\n",
       "      <th>92</th>\n",
       "      <td>12982</td>\n",
       "      <td>12173</td>\n",
       "      <td>0.054089</td>\n",
       "    </tr>\n",
       "  </tbody>\n",
       "</table>\n",
       "</div>"
      ],
      "text/plain": [
       "    origin_airport_id  dest_airport_id  is_delayed\n",
       "61              12173            12982    0.051153\n",
       "66              12402            12173    0.052249\n",
       "59              12173            12402    0.052384\n",
       "69              12758            12173    0.053388\n",
       "92              12982            12173    0.054089"
      ]
     },
     "execution_count": 183,
     "metadata": {},
     "output_type": "execute_result"
    }
   ],
   "source": [
    "least_route_delays_df.head()"
   ]
  },
  {
   "cell_type": "code",
   "execution_count": 184,
   "metadata": {},
   "outputs": [],
   "source": [
    "# trasy z największym odsetkiem opóźnień (przy reprezentatywnej liczbie lotów > 500)\n",
    "top_route_delays_df = routes_with_enough_flights.groupby(['origin_airport_id', 'dest_airport_id'])['is_delayed'].mean().reset_index()\n",
    "top_route_delays_df = top_route_delays_df.sort_values(by='is_delayed', ascending=False).head(10)"
   ]
  },
  {
   "cell_type": "code",
   "execution_count": 186,
   "metadata": {},
   "outputs": [
    {
     "data": {
      "text/html": [
       "<div>\n",
       "<style scoped>\n",
       "    .dataframe tbody tr th:only-of-type {\n",
       "        vertical-align: middle;\n",
       "    }\n",
       "\n",
       "    .dataframe tbody tr th {\n",
       "        vertical-align: top;\n",
       "    }\n",
       "\n",
       "    .dataframe thead th {\n",
       "        text-align: right;\n",
       "    }\n",
       "</style>\n",
       "<table border=\"1\" class=\"dataframe\">\n",
       "  <thead>\n",
       "    <tr style=\"text-align: right;\">\n",
       "      <th></th>\n",
       "      <th>origin_airport_id</th>\n",
       "      <th>dest_airport_id</th>\n",
       "      <th>is_delayed</th>\n",
       "    </tr>\n",
       "  </thead>\n",
       "  <tbody>\n",
       "    <tr>\n",
       "      <th>94</th>\n",
       "      <td>13204</td>\n",
       "      <td>11618</td>\n",
       "      <td>0.335248</td>\n",
       "    </tr>\n",
       "    <tr>\n",
       "      <th>45</th>\n",
       "      <td>11292</td>\n",
       "      <td>14771</td>\n",
       "      <td>0.320471</td>\n",
       "    </tr>\n",
       "    <tr>\n",
       "      <th>7</th>\n",
       "      <td>10397</td>\n",
       "      <td>11618</td>\n",
       "      <td>0.311941</td>\n",
       "    </tr>\n",
       "    <tr>\n",
       "      <th>55</th>\n",
       "      <td>11618</td>\n",
       "      <td>10721</td>\n",
       "      <td>0.293400</td>\n",
       "    </tr>\n",
       "    <tr>\n",
       "      <th>111</th>\n",
       "      <td>13930</td>\n",
       "      <td>11618</td>\n",
       "      <td>0.287817</td>\n",
       "    </tr>\n",
       "  </tbody>\n",
       "</table>\n",
       "</div>"
      ],
      "text/plain": [
       "     origin_airport_id  dest_airport_id  is_delayed\n",
       "94               13204            11618    0.335248\n",
       "45               11292            14771    0.320471\n",
       "7                10397            11618    0.311941\n",
       "55               11618            10721    0.293400\n",
       "111              13930            11618    0.287817"
      ]
     },
     "execution_count": 186,
     "metadata": {},
     "output_type": "execute_result"
    }
   ],
   "source": [
    "top_route_delays_df.head()"
   ]
  },
  {
   "cell_type": "markdown",
   "metadata": {},
   "source": [
    " ### Sprawdzenie dla `top_airport_origin`"
   ]
  },
  {
   "cell_type": "code",
   "execution_count": 113,
   "metadata": {},
   "outputs": [],
   "source": [
    "?"
   ]
  },
  {
   "cell_type": "markdown",
   "metadata": {},
   "source": [
    "### Sprawdzenie dla `top_airport_destination`"
   ]
  },
  {
   "cell_type": "code",
   "execution_count": 198,
   "metadata": {},
   "outputs": [
    {
     "ename": "TypeError",
     "evalue": "DataFrame.sort_values() missing 1 required positional argument: 'by'",
     "output_type": "error",
     "traceback": [
      "\u001b[0;31m---------------------------------------------------------------------------\u001b[0m",
      "\u001b[0;31mTypeError\u001b[0m                                 Traceback (most recent call last)",
      "Cell \u001b[0;32mIn[198], line 1\u001b[0m\n\u001b[0;32m----> 1\u001b[0m top_airports_destination_head \u001b[38;5;241m=\u001b[39m (\u001b[43mtop_airports_destination_df\u001b[49m\n\u001b[1;32m      2\u001b[0m \u001b[43m                                 \u001b[49m\u001b[38;5;241;43m.\u001b[39;49m\u001b[43msort_values\u001b[49m\u001b[43m(\u001b[49m\u001b[43mascending\u001b[49m\u001b[38;5;241;43m=\u001b[39;49m\u001b[38;5;28;43;01mFalse\u001b[39;49;00m\u001b[43m)\u001b[49m\n\u001b[1;32m      3\u001b[0m                                  \u001b[38;5;241m.\u001b[39mhead()\n\u001b[1;32m      4\u001b[0m                                  \u001b[38;5;241m.\u001b[39mvalues\u001b[38;5;241m.\u001b[39mtolist()\n\u001b[1;32m      5\u001b[0m                                  )\n\u001b[1;32m      6\u001b[0m top_airports_destination_head \u001b[38;5;241m=\u001b[39m \u001b[38;5;28mtuple\u001b[39m(top_airports_destination_head)\n\u001b[1;32m      7\u001b[0m top_airports_destination_head_expected \u001b[38;5;241m=\u001b[39m (\u001b[38;5;241m122945\u001b[39m, \u001b[38;5;241m100333\u001b[39m, \u001b[38;5;241m87776\u001b[39m, \u001b[38;5;241m64602\u001b[39m, \u001b[38;5;241m57686\u001b[39m)\n",
      "File \u001b[0;32m~/anaconda3/lib/python3.10/site-packages/pandas/util/_decorators.py:331\u001b[0m, in \u001b[0;36mdeprecate_nonkeyword_arguments.<locals>.decorate.<locals>.wrapper\u001b[0;34m(*args, **kwargs)\u001b[0m\n\u001b[1;32m    325\u001b[0m \u001b[38;5;28;01mif\u001b[39;00m \u001b[38;5;28mlen\u001b[39m(args) \u001b[38;5;241m>\u001b[39m num_allow_args:\n\u001b[1;32m    326\u001b[0m     warnings\u001b[38;5;241m.\u001b[39mwarn(\n\u001b[1;32m    327\u001b[0m         msg\u001b[38;5;241m.\u001b[39mformat(arguments\u001b[38;5;241m=\u001b[39m_format_argument_list(allow_args)),\n\u001b[1;32m    328\u001b[0m         \u001b[38;5;167;01mFutureWarning\u001b[39;00m,\n\u001b[1;32m    329\u001b[0m         stacklevel\u001b[38;5;241m=\u001b[39mfind_stack_level(),\n\u001b[1;32m    330\u001b[0m     )\n\u001b[0;32m--> 331\u001b[0m \u001b[38;5;28;01mreturn\u001b[39;00m \u001b[43mfunc\u001b[49m\u001b[43m(\u001b[49m\u001b[38;5;241;43m*\u001b[39;49m\u001b[43margs\u001b[49m\u001b[43m,\u001b[49m\u001b[43m \u001b[49m\u001b[38;5;241;43m*\u001b[39;49m\u001b[38;5;241;43m*\u001b[39;49m\u001b[43mkwargs\u001b[49m\u001b[43m)\u001b[49m\n",
      "\u001b[0;31mTypeError\u001b[0m: DataFrame.sort_values() missing 1 required positional argument: 'by'"
     ]
    }
   ],
   "source": [
    "top_airports_destination_head = (top_airports_destination_df\n",
    "                                 .sort_values(ascending=False)\n",
    "                                 .head()\n",
    "                                 .tolist()\n",
    "                                 )\n",
    "top_airports_destination_head = tuple(top_airports_destination_head)\n",
    "top_airports_destination_head_expected = (122945, 100333, 87776, 64602, 57686)\n",
    "\n",
    "assert top_airports_destination_head == top_airports_destination_head_expected, f\"Nie zgadza się top 5 wierszy, oczekiwano wyników: {top_airports_destination_head_expected} otrzymano: {top_airports_destination_head}\"\n"
   ]
  },
  {
   "cell_type": "markdown",
   "metadata": {},
   "source": [
    " # Wzbogacenie o dane pogodowe\n",
    " Używając procedury `read_sql_table`, wczytaj tabelę `airport_weather` do ramki `airport_weather_df`. Następnie wykonaj następujące polecenia:  \n",
    " 1. Pozostaw w ramce tylko następujące kolumny: `['station', 'name', 'date', 'prcp', 'snow', 'snwd', 'tmax', 'awnd']`.  \n",
    " 1. Połącz ramki `airport_list_df` wraz z `airport_weather_df` po odpowiedniej kolumnie używając takiego złączenia, aby w wyniku usunąć te wiersze (lotniska), które nie posiadają danych pogodowych. Dodatkowo, upewnij się, że zostanie tylko dodana kolumna `origin_airport_id`."
   ]
  },
  {
   "cell_type": "markdown",
   "metadata": {},
   "source": [
    " Tutaj wczytaj ramkę `airport_weather`"
   ]
  },
  {
   "cell_type": "code",
   "execution_count": 248,
   "metadata": {},
   "outputs": [],
   "source": [
    " airport_weather_df = pd.read_sql_table('airport_weather', engine)"
   ]
  },
  {
   "cell_type": "code",
   "execution_count": 249,
   "metadata": {},
   "outputs": [
    {
     "data": {
      "text/plain": [
       "Index(['id', 'station', 'name', 'date', 'awnd', 'pgtm', 'prcp', 'snow', 'snwd',\n",
       "       'tavg', 'tmax', 'tmin', 'wdf2', 'wdf5', 'wsf2', 'wsf5', 'wt01', 'wt02',\n",
       "       'wt03', 'wt04', 'wt05', 'wt06', 'wt07', 'wt08', 'wt09', 'wesd', 'wt10',\n",
       "       'psun', 'tsun', 'sn32', 'sx32', 'tobs', 'wt11', 'wt18'],\n",
       "      dtype='object')"
      ]
     },
     "execution_count": 249,
     "metadata": {},
     "output_type": "execute_result"
    }
   ],
   "source": [
    "airport_weather_df.columns"
   ]
  },
  {
   "cell_type": "code",
   "execution_count": 250,
   "metadata": {},
   "outputs": [
    {
     "data": {
      "text/html": [
       "<div>\n",
       "<style scoped>\n",
       "    .dataframe tbody tr th:only-of-type {\n",
       "        vertical-align: middle;\n",
       "    }\n",
       "\n",
       "    .dataframe tbody tr th {\n",
       "        vertical-align: top;\n",
       "    }\n",
       "\n",
       "    .dataframe thead th {\n",
       "        text-align: right;\n",
       "    }\n",
       "</style>\n",
       "<table border=\"1\" class=\"dataframe\">\n",
       "  <thead>\n",
       "    <tr style=\"text-align: right;\">\n",
       "      <th></th>\n",
       "      <th>id</th>\n",
       "      <th>station</th>\n",
       "      <th>name</th>\n",
       "      <th>date</th>\n",
       "      <th>awnd</th>\n",
       "      <th>pgtm</th>\n",
       "      <th>prcp</th>\n",
       "      <th>snow</th>\n",
       "      <th>snwd</th>\n",
       "      <th>tavg</th>\n",
       "      <th>...</th>\n",
       "      <th>wt09</th>\n",
       "      <th>wesd</th>\n",
       "      <th>wt10</th>\n",
       "      <th>psun</th>\n",
       "      <th>tsun</th>\n",
       "      <th>sn32</th>\n",
       "      <th>sx32</th>\n",
       "      <th>tobs</th>\n",
       "      <th>wt11</th>\n",
       "      <th>wt18</th>\n",
       "    </tr>\n",
       "  </thead>\n",
       "  <tbody>\n",
       "    <tr>\n",
       "      <th>0</th>\n",
       "      <td>1</td>\n",
       "      <td>USW00013874</td>\n",
       "      <td>ATLANTA HARTSFIELD JACKSON INTERNATIONAL AIRPO...</td>\n",
       "      <td>2019-01-01</td>\n",
       "      <td>4.70</td>\n",
       "      <td>NaN</td>\n",
       "      <td>0.14</td>\n",
       "      <td>0.0</td>\n",
       "      <td>0.0</td>\n",
       "      <td>64.0</td>\n",
       "      <td>...</td>\n",
       "      <td>NaN</td>\n",
       "      <td>NaN</td>\n",
       "      <td>NaN</td>\n",
       "      <td>NaN</td>\n",
       "      <td>NaN</td>\n",
       "      <td>NaN</td>\n",
       "      <td>NaN</td>\n",
       "      <td>NaN</td>\n",
       "      <td>NaN</td>\n",
       "      <td>NaN</td>\n",
       "    </tr>\n",
       "    <tr>\n",
       "      <th>1</th>\n",
       "      <td>2</td>\n",
       "      <td>USW00013874</td>\n",
       "      <td>ATLANTA HARTSFIELD JACKSON INTERNATIONAL AIRPO...</td>\n",
       "      <td>2019-01-02</td>\n",
       "      <td>4.92</td>\n",
       "      <td>NaN</td>\n",
       "      <td>0.57</td>\n",
       "      <td>0.0</td>\n",
       "      <td>0.0</td>\n",
       "      <td>56.0</td>\n",
       "      <td>...</td>\n",
       "      <td>NaN</td>\n",
       "      <td>NaN</td>\n",
       "      <td>NaN</td>\n",
       "      <td>NaN</td>\n",
       "      <td>NaN</td>\n",
       "      <td>NaN</td>\n",
       "      <td>NaN</td>\n",
       "      <td>NaN</td>\n",
       "      <td>NaN</td>\n",
       "      <td>NaN</td>\n",
       "    </tr>\n",
       "    <tr>\n",
       "      <th>2</th>\n",
       "      <td>3</td>\n",
       "      <td>USW00013874</td>\n",
       "      <td>ATLANTA HARTSFIELD JACKSON INTERNATIONAL AIRPO...</td>\n",
       "      <td>2019-01-03</td>\n",
       "      <td>5.37</td>\n",
       "      <td>NaN</td>\n",
       "      <td>0.15</td>\n",
       "      <td>0.0</td>\n",
       "      <td>0.0</td>\n",
       "      <td>52.0</td>\n",
       "      <td>...</td>\n",
       "      <td>NaN</td>\n",
       "      <td>NaN</td>\n",
       "      <td>NaN</td>\n",
       "      <td>NaN</td>\n",
       "      <td>NaN</td>\n",
       "      <td>NaN</td>\n",
       "      <td>NaN</td>\n",
       "      <td>NaN</td>\n",
       "      <td>NaN</td>\n",
       "      <td>NaN</td>\n",
       "    </tr>\n",
       "    <tr>\n",
       "      <th>3</th>\n",
       "      <td>4</td>\n",
       "      <td>USW00013874</td>\n",
       "      <td>ATLANTA HARTSFIELD JACKSON INTERNATIONAL AIRPO...</td>\n",
       "      <td>2019-01-04</td>\n",
       "      <td>12.08</td>\n",
       "      <td>NaN</td>\n",
       "      <td>1.44</td>\n",
       "      <td>0.0</td>\n",
       "      <td>0.0</td>\n",
       "      <td>56.0</td>\n",
       "      <td>...</td>\n",
       "      <td>NaN</td>\n",
       "      <td>NaN</td>\n",
       "      <td>NaN</td>\n",
       "      <td>NaN</td>\n",
       "      <td>NaN</td>\n",
       "      <td>NaN</td>\n",
       "      <td>NaN</td>\n",
       "      <td>NaN</td>\n",
       "      <td>NaN</td>\n",
       "      <td>NaN</td>\n",
       "    </tr>\n",
       "    <tr>\n",
       "      <th>4</th>\n",
       "      <td>5</td>\n",
       "      <td>USW00013874</td>\n",
       "      <td>ATLANTA HARTSFIELD JACKSON INTERNATIONAL AIRPO...</td>\n",
       "      <td>2019-01-05</td>\n",
       "      <td>13.42</td>\n",
       "      <td>NaN</td>\n",
       "      <td>0.00</td>\n",
       "      <td>0.0</td>\n",
       "      <td>0.0</td>\n",
       "      <td>49.0</td>\n",
       "      <td>...</td>\n",
       "      <td>NaN</td>\n",
       "      <td>NaN</td>\n",
       "      <td>NaN</td>\n",
       "      <td>NaN</td>\n",
       "      <td>NaN</td>\n",
       "      <td>NaN</td>\n",
       "      <td>NaN</td>\n",
       "      <td>NaN</td>\n",
       "      <td>NaN</td>\n",
       "      <td>NaN</td>\n",
       "    </tr>\n",
       "  </tbody>\n",
       "</table>\n",
       "<p>5 rows × 34 columns</p>\n",
       "</div>"
      ],
      "text/plain": [
       "   id      station                                               name  \\\n",
       "0   1  USW00013874  ATLANTA HARTSFIELD JACKSON INTERNATIONAL AIRPO...   \n",
       "1   2  USW00013874  ATLANTA HARTSFIELD JACKSON INTERNATIONAL AIRPO...   \n",
       "2   3  USW00013874  ATLANTA HARTSFIELD JACKSON INTERNATIONAL AIRPO...   \n",
       "3   4  USW00013874  ATLANTA HARTSFIELD JACKSON INTERNATIONAL AIRPO...   \n",
       "4   5  USW00013874  ATLANTA HARTSFIELD JACKSON INTERNATIONAL AIRPO...   \n",
       "\n",
       "         date   awnd  pgtm  prcp  snow  snwd  tavg  ...  wt09  wesd  wt10  \\\n",
       "0  2019-01-01   4.70   NaN  0.14   0.0   0.0  64.0  ...   NaN   NaN   NaN   \n",
       "1  2019-01-02   4.92   NaN  0.57   0.0   0.0  56.0  ...   NaN   NaN   NaN   \n",
       "2  2019-01-03   5.37   NaN  0.15   0.0   0.0  52.0  ...   NaN   NaN   NaN   \n",
       "3  2019-01-04  12.08   NaN  1.44   0.0   0.0  56.0  ...   NaN   NaN   NaN   \n",
       "4  2019-01-05  13.42   NaN  0.00   0.0   0.0  49.0  ...   NaN   NaN   NaN   \n",
       "\n",
       "   psun  tsun  sn32  sx32  tobs  wt11  wt18  \n",
       "0   NaN   NaN   NaN   NaN   NaN   NaN   NaN  \n",
       "1   NaN   NaN   NaN   NaN   NaN   NaN   NaN  \n",
       "2   NaN   NaN   NaN   NaN   NaN   NaN   NaN  \n",
       "3   NaN   NaN   NaN   NaN   NaN   NaN   NaN  \n",
       "4   NaN   NaN   NaN   NaN   NaN   NaN   NaN  \n",
       "\n",
       "[5 rows x 34 columns]"
      ]
     },
     "execution_count": 250,
     "metadata": {},
     "output_type": "execute_result"
    }
   ],
   "source": [
    "airport_weather_df.head()"
   ]
  },
  {
   "cell_type": "markdown",
   "metadata": {},
   "source": [
    " Tutaj oczyść ramkę `airport_weather_df` z nadmiarowych kolumn"
   ]
  },
  {
   "cell_type": "code",
   "execution_count": 251,
   "metadata": {},
   "outputs": [],
   "source": [
    "selected_columns = ['station', 'name', 'date', 'prcp', 'snow', 'snwd', 'tmax', 'awnd']\n",
    "airport_weather_df = airport_weather_df[selected_columns]"
   ]
  },
  {
   "cell_type": "code",
   "execution_count": 252,
   "metadata": {},
   "outputs": [
    {
     "data": {
      "text/plain": [
       "Index(['station', 'name', 'date', 'prcp', 'snow', 'snwd', 'tmax', 'awnd'], dtype='object')"
      ]
     },
     "execution_count": 252,
     "metadata": {},
     "output_type": "execute_result"
    }
   ],
   "source": [
    "airport_weather_df.columns"
   ]
  },
  {
   "cell_type": "code",
   "execution_count": 253,
   "metadata": {},
   "outputs": [
    {
     "data": {
      "text/html": [
       "<div>\n",
       "<style scoped>\n",
       "    .dataframe tbody tr th:only-of-type {\n",
       "        vertical-align: middle;\n",
       "    }\n",
       "\n",
       "    .dataframe tbody tr th {\n",
       "        vertical-align: top;\n",
       "    }\n",
       "\n",
       "    .dataframe thead th {\n",
       "        text-align: right;\n",
       "    }\n",
       "</style>\n",
       "<table border=\"1\" class=\"dataframe\">\n",
       "  <thead>\n",
       "    <tr style=\"text-align: right;\">\n",
       "      <th></th>\n",
       "      <th>station</th>\n",
       "      <th>name</th>\n",
       "      <th>date</th>\n",
       "      <th>prcp</th>\n",
       "      <th>snow</th>\n",
       "      <th>snwd</th>\n",
       "      <th>tmax</th>\n",
       "      <th>awnd</th>\n",
       "    </tr>\n",
       "  </thead>\n",
       "  <tbody>\n",
       "    <tr>\n",
       "      <th>0</th>\n",
       "      <td>USW00013874</td>\n",
       "      <td>ATLANTA HARTSFIELD JACKSON INTERNATIONAL AIRPO...</td>\n",
       "      <td>2019-01-01</td>\n",
       "      <td>0.14</td>\n",
       "      <td>0.0</td>\n",
       "      <td>0.0</td>\n",
       "      <td>66.0</td>\n",
       "      <td>4.70</td>\n",
       "    </tr>\n",
       "    <tr>\n",
       "      <th>1</th>\n",
       "      <td>USW00013874</td>\n",
       "      <td>ATLANTA HARTSFIELD JACKSON INTERNATIONAL AIRPO...</td>\n",
       "      <td>2019-01-02</td>\n",
       "      <td>0.57</td>\n",
       "      <td>0.0</td>\n",
       "      <td>0.0</td>\n",
       "      <td>59.0</td>\n",
       "      <td>4.92</td>\n",
       "    </tr>\n",
       "    <tr>\n",
       "      <th>2</th>\n",
       "      <td>USW00013874</td>\n",
       "      <td>ATLANTA HARTSFIELD JACKSON INTERNATIONAL AIRPO...</td>\n",
       "      <td>2019-01-03</td>\n",
       "      <td>0.15</td>\n",
       "      <td>0.0</td>\n",
       "      <td>0.0</td>\n",
       "      <td>55.0</td>\n",
       "      <td>5.37</td>\n",
       "    </tr>\n",
       "    <tr>\n",
       "      <th>3</th>\n",
       "      <td>USW00013874</td>\n",
       "      <td>ATLANTA HARTSFIELD JACKSON INTERNATIONAL AIRPO...</td>\n",
       "      <td>2019-01-04</td>\n",
       "      <td>1.44</td>\n",
       "      <td>0.0</td>\n",
       "      <td>0.0</td>\n",
       "      <td>66.0</td>\n",
       "      <td>12.08</td>\n",
       "    </tr>\n",
       "    <tr>\n",
       "      <th>4</th>\n",
       "      <td>USW00013874</td>\n",
       "      <td>ATLANTA HARTSFIELD JACKSON INTERNATIONAL AIRPO...</td>\n",
       "      <td>2019-01-05</td>\n",
       "      <td>0.00</td>\n",
       "      <td>0.0</td>\n",
       "      <td>0.0</td>\n",
       "      <td>59.0</td>\n",
       "      <td>13.42</td>\n",
       "    </tr>\n",
       "  </tbody>\n",
       "</table>\n",
       "</div>"
      ],
      "text/plain": [
       "       station                                               name        date  \\\n",
       "0  USW00013874  ATLANTA HARTSFIELD JACKSON INTERNATIONAL AIRPO...  2019-01-01   \n",
       "1  USW00013874  ATLANTA HARTSFIELD JACKSON INTERNATIONAL AIRPO...  2019-01-02   \n",
       "2  USW00013874  ATLANTA HARTSFIELD JACKSON INTERNATIONAL AIRPO...  2019-01-03   \n",
       "3  USW00013874  ATLANTA HARTSFIELD JACKSON INTERNATIONAL AIRPO...  2019-01-04   \n",
       "4  USW00013874  ATLANTA HARTSFIELD JACKSON INTERNATIONAL AIRPO...  2019-01-05   \n",
       "\n",
       "   prcp  snow  snwd  tmax   awnd  \n",
       "0  0.14   0.0   0.0  66.0   4.70  \n",
       "1  0.57   0.0   0.0  59.0   4.92  \n",
       "2  0.15   0.0   0.0  55.0   5.37  \n",
       "3  1.44   0.0   0.0  66.0  12.08  \n",
       "4  0.00   0.0   0.0  59.0  13.42  "
      ]
     },
     "execution_count": 253,
     "metadata": {},
     "output_type": "execute_result"
    }
   ],
   "source": [
    "airport_weather_df.head()"
   ]
  },
  {
   "cell_type": "markdown",
   "metadata": {},
   "source": [
    " Tutaj połącz ramki `airport_list_df` oraz `airport_weather_df` aktualizując `airport_weather_df`"
   ]
  },
  {
   "cell_type": "code",
   "execution_count": 254,
   "metadata": {},
   "outputs": [],
   "source": [
    "# sprawdzenie czy w ramce są duplikaty \n",
    "airport_list_df_dup = airport_list_df['origin_airport_id'].duplicated().any()"
   ]
  },
  {
   "cell_type": "code",
   "execution_count": 255,
   "metadata": {},
   "outputs": [
    {
     "data": {
      "text/plain": [
       "False"
      ]
     },
     "execution_count": 255,
     "metadata": {},
     "output_type": "execute_result"
    }
   ],
   "source": [
    "airport_list_df_dup"
   ]
  },
  {
   "cell_type": "code",
   "execution_count": 256,
   "metadata": {},
   "outputs": [
    {
     "data": {
      "text/plain": [
       "(97, 5)"
      ]
     },
     "execution_count": 256,
     "metadata": {},
     "output_type": "execute_result"
    }
   ],
   "source": [
    "airport_list_df.shape"
   ]
  },
  {
   "cell_type": "code",
   "execution_count": 257,
   "metadata": {},
   "outputs": [
    {
     "data": {
      "text/plain": [
       "(46226, 8)"
      ]
     },
     "execution_count": 257,
     "metadata": {},
     "output_type": "execute_result"
    }
   ],
   "source": [
    "airport_weather_df.shape"
   ]
  },
  {
   "cell_type": "code",
   "execution_count": 258,
   "metadata": {},
   "outputs": [],
   "source": [
    "airport_list_weather_df = pd.merge(left = airport_weather_df, right = airport_list_df[['origin_airport_id', 'name']], how = 'inner', left_on = ['name'], right_on = ['name'])"
   ]
  },
  {
   "cell_type": "code",
   "execution_count": 259,
   "metadata": {},
   "outputs": [],
   "source": [
    "airport_weather_df = airport_list_weather_df.copy()"
   ]
  },
  {
   "cell_type": "code",
   "execution_count": 260,
   "metadata": {},
   "outputs": [
    {
     "data": {
      "text/plain": [
       "(43394, 9)"
      ]
     },
     "execution_count": 260,
     "metadata": {},
     "output_type": "execute_result"
    }
   ],
   "source": [
    "airport_weather_df.shape"
   ]
  },
  {
   "cell_type": "markdown",
   "metadata": {},
   "source": [
    " ### Sprawdzenie\n",
    " Uruchom kod poniżej, aby sprawdzić, czy ta część została poprawnie wykonana"
   ]
  },
  {
   "cell_type": "code",
   "execution_count": 261,
   "metadata": {},
   "outputs": [],
   "source": [
    "airport_weather_df_expected_shape = (43394, 9)\n",
    "airport_weather_df_shape = airport_weather_df.shape\n",
    "\n",
    "assert airport_weather_df_expected_shape == airport_weather_df_shape, \\\n",
    "  f'Nieodpowiedni wymiar ramki airport_weather_df, oczekiwano (wierszy, kolumn): {airport_weather_df_expected_shape}'\n"
   ]
  },
  {
   "cell_type": "markdown",
   "metadata": {},
   "source": [
    " ## Połączenie `airport_weather_df` oraz `flight_df`\n",
    " W celu złączenia ramek `airport_weather_df` oraz `flight_df` wykonaj następujące kroki:  \n",
    " 1. w ramce `aiport_weather_df` występuje kolumna `date`, zrzutuj ją na typ `DATETIME`.  \n",
    " 1. w ramce `flight_df` należy stworzyć nową kolumnę o nazwie `date`. W tym celu:  \n",
    " \t- złącz kolumny `month`, `day_of_month` oraz `year` razem, użyj następującego formatu daty: `YYYY-MM-DD`.\n",
    " \t- zrzutuj kolumnę `date` na typ `DATETIME`.  \n",
    " 1. złącz ramki używając odpowiedniego klucza, wynik złączenia zapisz do ramki `flight_df`. Użyj złącznia typu `LEFT JOIN`.\n",
    "\n",
    " > Dlaczego istotne jest zachowanie typów przy złączeniu?\n",
    "\n",
    "W trakcie pracy możesz posłużyć się następującymi artykułami z `LMS`:\n",
    " - `Python - analiza danych > Dzień 6 - Pandas > Merge`\n",
    " - `Python - analiza danych > Dzień 6 - Pandas > Praca z datetime`\n",
    " - Dokumentacje metody `to_datetime`: [klik](https://pandas.pydata.org/docs/reference/api/pandas.to_datetime.html)\n",
    " - Dostępne formaty dat: [klik](https://www.programiz.com/python-programming/datetime/strftime) - sekcja `Format Code List`"
   ]
  },
  {
   "cell_type": "markdown",
   "metadata": {},
   "source": [
    " Tutaj zrzutuj kolumnę `date` na `DATETIME` w ramce `airport_weather_df`"
   ]
  },
  {
   "cell_type": "code",
   "execution_count": 262,
   "metadata": {},
   "outputs": [
    {
     "data": {
      "text/plain": [
       "Index(['station', 'name', 'date', 'prcp', 'snow', 'snwd', 'tmax', 'awnd',\n",
       "       'origin_airport_id'],\n",
       "      dtype='object')"
      ]
     },
     "execution_count": 262,
     "metadata": {},
     "output_type": "execute_result"
    }
   ],
   "source": [
    "airport_weather_df.columns"
   ]
  },
  {
   "cell_type": "code",
   "execution_count": 263,
   "metadata": {},
   "outputs": [],
   "source": [
    "airport_weather_df['date'] = pd.to_datetime(airport_weather_df['date'])\n"
   ]
  },
  {
   "cell_type": "markdown",
   "metadata": {},
   "source": [
    " Tutaj stwórz kolumnę `date` w ramce `flight_df`. Pamiętaj, aby była ona również typu `DATETIME`."
   ]
  },
  {
   "cell_type": "code",
   "execution_count": 264,
   "metadata": {},
   "outputs": [
    {
     "data": {
      "text/plain": [
       "Index(['id', 'month', 'day_of_month', 'day_of_week', 'op_unique_carrier',\n",
       "       'tail_num', 'op_carrier_fl_num', 'origin_airport_id', 'dest_airport_id',\n",
       "       'crs_dep_time', 'dep_time', 'dep_delay', 'dep_time_blk', 'crs_arr_time',\n",
       "       'arr_time', 'arr_delay_new', 'arr_time_blk', 'cancelled',\n",
       "       'crs_elapsed_time', 'actual_elapsed_time', 'distance', 'distance_group',\n",
       "       'carrier_delay', 'weather_delay', 'nas_delay', 'security_delay',\n",
       "       'late_aircraft_delay', 'year', 'is_delayed', 'is_weekend',\n",
       "       'distance_agg', 'manufacture_year', 'manufacture_year_agg',\n",
       "       'delay_ration', 'delay_ratio', 'origin_city_name',\n",
       "       'destination_city_name', 'origin_city_name', 'destination_city_name',\n",
       "       'origin_city_name'],\n",
       "      dtype='object')"
      ]
     },
     "execution_count": 264,
     "metadata": {},
     "output_type": "execute_result"
    }
   ],
   "source": [
    "flight_df.columns"
   ]
  },
  {
   "cell_type": "code",
   "execution_count": 265,
   "metadata": {},
   "outputs": [],
   "source": [
    "flight_df['date'] = pd.to_datetime(flight_df[['year', 'month', 'day_of_month']].astype(str).agg('-'.join, axis=1))"
   ]
  },
  {
   "cell_type": "code",
   "execution_count": 268,
   "metadata": {},
   "outputs": [
    {
     "data": {
      "text/plain": [
       "0   2019-01-20\n",
       "1   2019-01-20\n",
       "2   2019-01-20\n",
       "3   2019-01-20\n",
       "4   2019-01-20\n",
       "Name: date, dtype: datetime64[ns]"
      ]
     },
     "execution_count": 268,
     "metadata": {},
     "output_type": "execute_result"
    }
   ],
   "source": [
    "flight_df['date'].head()"
   ]
  },
  {
   "cell_type": "markdown",
   "metadata": {},
   "source": [
    " Tutaj złącz tabeli `airport_weather_df` oraz `flight_df`"
   ]
  },
  {
   "cell_type": "code",
   "execution_count": 269,
   "metadata": {},
   "outputs": [],
   "source": [
    "merged_df = pd.merge(flight_df, airport_weather_df, how='left', left_on=['origin_airport_id', 'date'], right_on=['origin_airport_id', 'date'])\n"
   ]
  },
  {
   "cell_type": "code",
   "execution_count": 271,
   "metadata": {},
   "outputs": [],
   "source": [
    "flight_df = merged_df.copy()"
   ]
  },
  {
   "cell_type": "code",
   "execution_count": 273,
   "metadata": {},
   "outputs": [
    {
     "data": {
      "text/html": [
       "<div>\n",
       "<style scoped>\n",
       "    .dataframe tbody tr th:only-of-type {\n",
       "        vertical-align: middle;\n",
       "    }\n",
       "\n",
       "    .dataframe tbody tr th {\n",
       "        vertical-align: top;\n",
       "    }\n",
       "\n",
       "    .dataframe thead th {\n",
       "        text-align: right;\n",
       "    }\n",
       "</style>\n",
       "<table border=\"1\" class=\"dataframe\">\n",
       "  <thead>\n",
       "    <tr style=\"text-align: right;\">\n",
       "      <th></th>\n",
       "      <th>id</th>\n",
       "      <th>month</th>\n",
       "      <th>day_of_month</th>\n",
       "      <th>day_of_week</th>\n",
       "      <th>op_unique_carrier</th>\n",
       "      <th>tail_num</th>\n",
       "      <th>op_carrier_fl_num</th>\n",
       "      <th>origin_airport_id</th>\n",
       "      <th>dest_airport_id</th>\n",
       "      <th>crs_dep_time</th>\n",
       "      <th>...</th>\n",
       "      <th>destination_city_name</th>\n",
       "      <th>origin_city_name</th>\n",
       "      <th>date</th>\n",
       "      <th>station</th>\n",
       "      <th>name</th>\n",
       "      <th>prcp</th>\n",
       "      <th>snow</th>\n",
       "      <th>snwd</th>\n",
       "      <th>tmax</th>\n",
       "      <th>awnd</th>\n",
       "    </tr>\n",
       "  </thead>\n",
       "  <tbody>\n",
       "    <tr>\n",
       "      <th>0</th>\n",
       "      <td>1</td>\n",
       "      <td>1</td>\n",
       "      <td>20</td>\n",
       "      <td>7</td>\n",
       "      <td>WN</td>\n",
       "      <td>N204WN</td>\n",
       "      <td>682</td>\n",
       "      <td>10397</td>\n",
       "      <td>11292</td>\n",
       "      <td>605</td>\n",
       "      <td>...</td>\n",
       "      <td>Atlanta, GA</td>\n",
       "      <td>Denver, CO</td>\n",
       "      <td>2019-01-20</td>\n",
       "      <td>USW00013874</td>\n",
       "      <td>ATLANTA HARTSFIELD JACKSON INTERNATIONAL AIRPO...</td>\n",
       "      <td>0.0</td>\n",
       "      <td>0.0</td>\n",
       "      <td>0.0</td>\n",
       "      <td>53.0</td>\n",
       "      <td>20.36</td>\n",
       "    </tr>\n",
       "    <tr>\n",
       "      <th>1</th>\n",
       "      <td>2</td>\n",
       "      <td>1</td>\n",
       "      <td>20</td>\n",
       "      <td>7</td>\n",
       "      <td>WN</td>\n",
       "      <td>N8682B</td>\n",
       "      <td>2622</td>\n",
       "      <td>10397</td>\n",
       "      <td>11292</td>\n",
       "      <td>2120</td>\n",
       "      <td>...</td>\n",
       "      <td>Atlanta, GA</td>\n",
       "      <td>Denver, CO</td>\n",
       "      <td>2019-01-20</td>\n",
       "      <td>USW00013874</td>\n",
       "      <td>ATLANTA HARTSFIELD JACKSON INTERNATIONAL AIRPO...</td>\n",
       "      <td>0.0</td>\n",
       "      <td>0.0</td>\n",
       "      <td>0.0</td>\n",
       "      <td>53.0</td>\n",
       "      <td>20.36</td>\n",
       "    </tr>\n",
       "    <tr>\n",
       "      <th>2</th>\n",
       "      <td>3</td>\n",
       "      <td>1</td>\n",
       "      <td>20</td>\n",
       "      <td>7</td>\n",
       "      <td>WN</td>\n",
       "      <td>N717SA</td>\n",
       "      <td>2939</td>\n",
       "      <td>10397</td>\n",
       "      <td>11292</td>\n",
       "      <td>1800</td>\n",
       "      <td>...</td>\n",
       "      <td>Atlanta, GA</td>\n",
       "      <td>Denver, CO</td>\n",
       "      <td>2019-01-20</td>\n",
       "      <td>USW00013874</td>\n",
       "      <td>ATLANTA HARTSFIELD JACKSON INTERNATIONAL AIRPO...</td>\n",
       "      <td>0.0</td>\n",
       "      <td>0.0</td>\n",
       "      <td>0.0</td>\n",
       "      <td>53.0</td>\n",
       "      <td>20.36</td>\n",
       "    </tr>\n",
       "    <tr>\n",
       "      <th>3</th>\n",
       "      <td>4</td>\n",
       "      <td>1</td>\n",
       "      <td>20</td>\n",
       "      <td>7</td>\n",
       "      <td>WN</td>\n",
       "      <td>N709SW</td>\n",
       "      <td>3848</td>\n",
       "      <td>10397</td>\n",
       "      <td>11292</td>\n",
       "      <td>1355</td>\n",
       "      <td>...</td>\n",
       "      <td>Atlanta, GA</td>\n",
       "      <td>Denver, CO</td>\n",
       "      <td>2019-01-20</td>\n",
       "      <td>USW00013874</td>\n",
       "      <td>ATLANTA HARTSFIELD JACKSON INTERNATIONAL AIRPO...</td>\n",
       "      <td>0.0</td>\n",
       "      <td>0.0</td>\n",
       "      <td>0.0</td>\n",
       "      <td>53.0</td>\n",
       "      <td>20.36</td>\n",
       "    </tr>\n",
       "    <tr>\n",
       "      <th>4</th>\n",
       "      <td>5</td>\n",
       "      <td>1</td>\n",
       "      <td>20</td>\n",
       "      <td>7</td>\n",
       "      <td>WN</td>\n",
       "      <td>N7864B</td>\n",
       "      <td>1352</td>\n",
       "      <td>10397</td>\n",
       "      <td>11697</td>\n",
       "      <td>1125</td>\n",
       "      <td>...</td>\n",
       "      <td>Atlanta, GA</td>\n",
       "      <td>Fort Lauderdale, FL</td>\n",
       "      <td>2019-01-20</td>\n",
       "      <td>USW00013874</td>\n",
       "      <td>ATLANTA HARTSFIELD JACKSON INTERNATIONAL AIRPO...</td>\n",
       "      <td>0.0</td>\n",
       "      <td>0.0</td>\n",
       "      <td>0.0</td>\n",
       "      <td>53.0</td>\n",
       "      <td>20.36</td>\n",
       "    </tr>\n",
       "  </tbody>\n",
       "</table>\n",
       "<p>5 rows × 48 columns</p>\n",
       "</div>"
      ],
      "text/plain": [
       "   id  month  day_of_month  day_of_week op_unique_carrier tail_num  \\\n",
       "0   1      1            20            7                WN   N204WN   \n",
       "1   2      1            20            7                WN   N8682B   \n",
       "2   3      1            20            7                WN   N717SA   \n",
       "3   4      1            20            7                WN   N709SW   \n",
       "4   5      1            20            7                WN   N7864B   \n",
       "\n",
       "   op_carrier_fl_num  origin_airport_id  dest_airport_id  crs_dep_time  ...  \\\n",
       "0                682              10397            11292           605  ...   \n",
       "1               2622              10397            11292          2120  ...   \n",
       "2               2939              10397            11292          1800  ...   \n",
       "3               3848              10397            11292          1355  ...   \n",
       "4               1352              10397            11697          1125  ...   \n",
       "\n",
       "   destination_city_name     origin_city_name       date      station  \\\n",
       "0            Atlanta, GA           Denver, CO 2019-01-20  USW00013874   \n",
       "1            Atlanta, GA           Denver, CO 2019-01-20  USW00013874   \n",
       "2            Atlanta, GA           Denver, CO 2019-01-20  USW00013874   \n",
       "3            Atlanta, GA           Denver, CO 2019-01-20  USW00013874   \n",
       "4            Atlanta, GA  Fort Lauderdale, FL 2019-01-20  USW00013874   \n",
       "\n",
       "                                                name  prcp snow  snwd  tmax  \\\n",
       "0  ATLANTA HARTSFIELD JACKSON INTERNATIONAL AIRPO...   0.0  0.0   0.0  53.0   \n",
       "1  ATLANTA HARTSFIELD JACKSON INTERNATIONAL AIRPO...   0.0  0.0   0.0  53.0   \n",
       "2  ATLANTA HARTSFIELD JACKSON INTERNATIONAL AIRPO...   0.0  0.0   0.0  53.0   \n",
       "3  ATLANTA HARTSFIELD JACKSON INTERNATIONAL AIRPO...   0.0  0.0   0.0  53.0   \n",
       "4  ATLANTA HARTSFIELD JACKSON INTERNATIONAL AIRPO...   0.0  0.0   0.0  53.0   \n",
       "\n",
       "    awnd  \n",
       "0  20.36  \n",
       "1  20.36  \n",
       "2  20.36  \n",
       "3  20.36  \n",
       "4  20.36  \n",
       "\n",
       "[5 rows x 48 columns]"
      ]
     },
     "execution_count": 273,
     "metadata": {},
     "output_type": "execute_result"
    }
   ],
   "source": [
    "flight_df.head()"
   ]
  },
  {
   "cell_type": "markdown",
   "metadata": {},
   "source": [
    " ### Sprawdzenie\n",
    " Uruchom kod poniżej, aby sprawdzić, czy ta część została poprawnie wykonana"
   ]
  },
  {
   "cell_type": "code",
   "execution_count": 274,
   "metadata": {},
   "outputs": [],
   "source": [
    "flight_df_expected_rows_amount = 1057391\n",
    "assert flight_df.shape[0] == flight_df_expected_rows_amount, 'Ups, zmieniła się liczba wierszy...'\n"
   ]
  },
  {
   "cell_type": "markdown",
   "metadata": {},
   "source": [
    "# Praca samodzielna\n",
    "Używając `flight_df` zbadaj hipotezę o tym, że temperatura maksymalna wpływa na **odsetek** opóźnień lotów (kolumna `tmax`).  \n",
    "\n",
    "Przy wykonywaniu tego zadania masz pełną dowolność, jednak powinno składać się conajmniej z następujących elementów:\n",
    "- sprawdzenie, czy zmienna posiada obserwacje odstające,\n",
    "- oczyszczenie danych o ile konieczne,\n",
    "- przedstawienie w formie tabeli czy wzrost danej zmiennej powoduje zmianę w odsetku opóźnień lotów,\n",
    "- wizualizację stworzonej wcześniej tabeli w formie wykresu,\n",
    "- krótkiego opisu wyników w komórce markdown."
   ]
  },
  {
   "cell_type": "markdown",
   "metadata": {},
   "source": [
    " ## Analiza dla kolumny `tmax`"
   ]
  },
  {
   "cell_type": "code",
   "execution_count": 275,
   "metadata": {},
   "outputs": [
    {
     "name": "stdout",
     "output_type": "stream",
     "text": [
      "Statystyki opisowe temperatury maksymalnej (tmax):\n",
      "count    1.051956e+06\n",
      "mean     7.032802e+01\n",
      "std      1.797122e+01\n",
      "min     -1.000000e+01\n",
      "25%      5.900000e+01\n",
      "50%      7.200000e+01\n",
      "75%      8.400000e+01\n",
      "max      1.150000e+02\n",
      "Name: tmax, dtype: float64\n",
      "\n"
     ]
    }
   ],
   "source": [
    "# 1 sprawdzenie, czy zmienna posiada obserwacje odstające \n",
    "print(f\"Statystyki opisowe temperatury maksymalnej (tmax):\\n{flight_df['tmax'].describe()}\\n\")"
   ]
  },
  {
   "cell_type": "code",
   "execution_count": 276,
   "metadata": {},
   "outputs": [],
   "source": [
    "# 2 przedstawienie w formie tabeli czy wzrost danej zmiennej powoduje zmianę w odsetku opóźnień lotów\n",
    "temperature_bins = pd.cut(flight_df['tmax'], bins=5)  # Dzielimy temperaturę na 5 przedziałów\n",
    "delay_percentage_by_temperature = flight_df.groupby(temperature_bins)['is_delayed'].mean()\n",
    "delay_percentage_table = pd.DataFrame({'Temperature Range': delay_percentage_by_temperature.index, 'Delay Percentage': delay_percentage_by_temperature.values})\n"
   ]
  },
  {
   "cell_type": "code",
   "execution_count": 277,
   "metadata": {},
   "outputs": [
    {
     "data": {
      "text/html": [
       "<div>\n",
       "<style scoped>\n",
       "    .dataframe tbody tr th:only-of-type {\n",
       "        vertical-align: middle;\n",
       "    }\n",
       "\n",
       "    .dataframe tbody tr th {\n",
       "        vertical-align: top;\n",
       "    }\n",
       "\n",
       "    .dataframe thead th {\n",
       "        text-align: right;\n",
       "    }\n",
       "</style>\n",
       "<table border=\"1\" class=\"dataframe\">\n",
       "  <thead>\n",
       "    <tr style=\"text-align: right;\">\n",
       "      <th></th>\n",
       "      <th>Temperature Range</th>\n",
       "      <th>Delay Percentage</th>\n",
       "    </tr>\n",
       "  </thead>\n",
       "  <tbody>\n",
       "    <tr>\n",
       "      <th>0</th>\n",
       "      <td>(-10.125, 15.0]</td>\n",
       "      <td>0.344288</td>\n",
       "    </tr>\n",
       "    <tr>\n",
       "      <th>1</th>\n",
       "      <td>(15.0, 40.0]</td>\n",
       "      <td>0.248548</td>\n",
       "    </tr>\n",
       "    <tr>\n",
       "      <th>2</th>\n",
       "      <td>(40.0, 65.0]</td>\n",
       "      <td>0.186492</td>\n",
       "    </tr>\n",
       "    <tr>\n",
       "      <th>3</th>\n",
       "      <td>(65.0, 90.0]</td>\n",
       "      <td>0.184402</td>\n",
       "    </tr>\n",
       "    <tr>\n",
       "      <th>4</th>\n",
       "      <td>(90.0, 115.0]</td>\n",
       "      <td>0.201661</td>\n",
       "    </tr>\n",
       "  </tbody>\n",
       "</table>\n",
       "</div>"
      ],
      "text/plain": [
       "  Temperature Range  Delay Percentage\n",
       "0   (-10.125, 15.0]          0.344288\n",
       "1      (15.0, 40.0]          0.248548\n",
       "2      (40.0, 65.0]          0.186492\n",
       "3      (65.0, 90.0]          0.184402\n",
       "4     (90.0, 115.0]          0.201661"
      ]
     },
     "execution_count": 277,
     "metadata": {},
     "output_type": "execute_result"
    }
   ],
   "source": [
    "delay_percentage_table"
   ]
  },
  {
   "cell_type": "code",
   "execution_count": 283,
   "metadata": {},
   "outputs": [
    {
     "data": {
      "image/png": "[encoded data removed]",
      "text/plain": [
       "<Figure size 1000x600 with 1 Axes>"
      ]
     },
     "metadata": {},
     "output_type": "display_data"
    }
   ],
   "source": [
    "# 3 wizualizacja stworzonej tabeli w formie wykresu\n",
    "plt.figure(figsize=(10, 6))\n",
    "sns.barplot(x='Temperature Range', y='Delay Percentage', data=delay_percentage_table, palette='viridis')\n",
    "plt.title('Odsetek opóźnień lotów w zależności od temperatury maksymalnej')\n",
    "plt.xlabel('Przedział temperatury maksymalnej')\n",
    "plt.ylabel('Odsetek opóźnień')\n",
    "plt.xticks(rotation=45)\n",
    "plt.show()"
   ]
  },
  {
   "cell_type": "markdown",
   "metadata": {},
   "source": [
    "## Miejsce na Twój komentarz"
   ]
  },
  {
   "cell_type": "markdown",
   "metadata": {},
   "source": [
    "Biorąc pod uwagę zakres temperatury a odsetek opóźnień, w analizowanych danych możemy wywnioskować, że: \n",
    "W zakresie temperatury od -10.125 do 15.0 stopni Fahrenheita odsetek opóźnień wynosi około 34.43%.\n",
    "W zakresie temperatury od 15.0 do 40.0 stopni Fahrenheita odsetek opóźnień spada do około 24.85%.\n",
    "W zakresie temperatury od 40.0 do 65.0 stopni Fahrenheita odsetek opóźnień zmniejsza się jeszcze bardziej, osiągając około 18.65%.\n",
    "W zakresie temperatury od 65.0 do 90.0 stopni Fahrenheita odsetek opóźnień jest na podobnym poziomie, wynosząc około 18.44%.\n",
    "W zakresie temperatury od 90.0 do 115.0 stopni Fahrenheita odsetek opóźnień ponownie nieznacznie rośnie, osiągając około 20.17%.\n",
    "\n",
    "\n",
    "Wnioski:\n",
    "Na pierwszy rzut oka może wydawać się, że bardzo niska temperatura ma związek z wyższym odsetkiem opóźnień, jednak wzrost temperatury niekoniecznie przekłada się na równomierczą redukcję opóźnień.\n",
    "Najniższy odsetek opóźnień występuje w zakresie umiarkowanych temperatur (między 15.0 a 65.0 stopni Fahrenheita), co sugeruje, że ekstremalne temperatury, zarówno niskie, jak i wysokie, mogą mieć wpływ na opóźnienia.\n"
   ]
  },
  {
   "cell_type": "markdown",
   "metadata": {},
   "source": [
    "# Podsumowanie\n",
    "W tej części warsztatu dokonaliśmy kompleksowej analizy posiadanego zbioru danych. Eksploracja\n",
    "pozwoliła nam na zapoznanie się z cechami charakterystycznymi lotów - wiemy już, które \n",
    "zmienne mogą mieć wpływ na opóźnienia lotów, a które nie. Co warto podkreślić, skupiliśmy się na wielu\n",
    "aspektach tej analizy, co otwiera potencjalnie również inne możliwości dalszej pracy nad tą bazą.\n",
    "\n",
    "W tym momencie przejdziemy do kolejnego kroku, w którym, na podstawie tej analizy, przygotujemy \n",
    "system raportowy. Zanim jednak stworzymy dashboard, potrzebujemy zaktualizować naszą bazę danych."
   ]
  },
  {
   "cell_type": "code",
   "execution_count": 284,
   "metadata": {},
   "outputs": [],
   "source": [
    "flight_df.to_csv('flight_df_03.csv', index=False)"
   ]
  },
  {
   "cell_type": "code",
   "execution_count": 285,
   "metadata": {},
   "outputs": [
    {
     "data": {
      "text/html": [
       "<div>\n",
       "<style scoped>\n",
       "    .dataframe tbody tr th:only-of-type {\n",
       "        vertical-align: middle;\n",
       "    }\n",
       "\n",
       "    .dataframe tbody tr th {\n",
       "        vertical-align: top;\n",
       "    }\n",
       "\n",
       "    .dataframe thead th {\n",
       "        text-align: right;\n",
       "    }\n",
       "</style>\n",
       "<table border=\"1\" class=\"dataframe\">\n",
       "  <thead>\n",
       "    <tr style=\"text-align: right;\">\n",
       "      <th></th>\n",
       "      <th>id</th>\n",
       "      <th>month</th>\n",
       "      <th>day_of_month</th>\n",
       "      <th>day_of_week</th>\n",
       "      <th>op_unique_carrier</th>\n",
       "      <th>tail_num</th>\n",
       "      <th>op_carrier_fl_num</th>\n",
       "      <th>origin_airport_id</th>\n",
       "      <th>dest_airport_id</th>\n",
       "      <th>crs_dep_time</th>\n",
       "      <th>...</th>\n",
       "      <th>destination_city_name</th>\n",
       "      <th>origin_city_name</th>\n",
       "      <th>date</th>\n",
       "      <th>station</th>\n",
       "      <th>name</th>\n",
       "      <th>prcp</th>\n",
       "      <th>snow</th>\n",
       "      <th>snwd</th>\n",
       "      <th>tmax</th>\n",
       "      <th>awnd</th>\n",
       "    </tr>\n",
       "  </thead>\n",
       "  <tbody>\n",
       "    <tr>\n",
       "      <th>0</th>\n",
       "      <td>1</td>\n",
       "      <td>1</td>\n",
       "      <td>20</td>\n",
       "      <td>7</td>\n",
       "      <td>WN</td>\n",
       "      <td>N204WN</td>\n",
       "      <td>682</td>\n",
       "      <td>10397</td>\n",
       "      <td>11292</td>\n",
       "      <td>605</td>\n",
       "      <td>...</td>\n",
       "      <td>Atlanta, GA</td>\n",
       "      <td>Denver, CO</td>\n",
       "      <td>2019-01-20</td>\n",
       "      <td>USW00013874</td>\n",
       "      <td>ATLANTA HARTSFIELD JACKSON INTERNATIONAL AIRPO...</td>\n",
       "      <td>0.00</td>\n",
       "      <td>0.0</td>\n",
       "      <td>0.0</td>\n",
       "      <td>53.0</td>\n",
       "      <td>20.36</td>\n",
       "    </tr>\n",
       "    <tr>\n",
       "      <th>1</th>\n",
       "      <td>2</td>\n",
       "      <td>1</td>\n",
       "      <td>20</td>\n",
       "      <td>7</td>\n",
       "      <td>WN</td>\n",
       "      <td>N8682B</td>\n",
       "      <td>2622</td>\n",
       "      <td>10397</td>\n",
       "      <td>11292</td>\n",
       "      <td>2120</td>\n",
       "      <td>...</td>\n",
       "      <td>Atlanta, GA</td>\n",
       "      <td>Denver, CO</td>\n",
       "      <td>2019-01-20</td>\n",
       "      <td>USW00013874</td>\n",
       "      <td>ATLANTA HARTSFIELD JACKSON INTERNATIONAL AIRPO...</td>\n",
       "      <td>0.00</td>\n",
       "      <td>0.0</td>\n",
       "      <td>0.0</td>\n",
       "      <td>53.0</td>\n",
       "      <td>20.36</td>\n",
       "    </tr>\n",
       "    <tr>\n",
       "      <th>2</th>\n",
       "      <td>3</td>\n",
       "      <td>1</td>\n",
       "      <td>20</td>\n",
       "      <td>7</td>\n",
       "      <td>WN</td>\n",
       "      <td>N717SA</td>\n",
       "      <td>2939</td>\n",
       "      <td>10397</td>\n",
       "      <td>11292</td>\n",
       "      <td>1800</td>\n",
       "      <td>...</td>\n",
       "      <td>Atlanta, GA</td>\n",
       "      <td>Denver, CO</td>\n",
       "      <td>2019-01-20</td>\n",
       "      <td>USW00013874</td>\n",
       "      <td>ATLANTA HARTSFIELD JACKSON INTERNATIONAL AIRPO...</td>\n",
       "      <td>0.00</td>\n",
       "      <td>0.0</td>\n",
       "      <td>0.0</td>\n",
       "      <td>53.0</td>\n",
       "      <td>20.36</td>\n",
       "    </tr>\n",
       "    <tr>\n",
       "      <th>3</th>\n",
       "      <td>4</td>\n",
       "      <td>1</td>\n",
       "      <td>20</td>\n",
       "      <td>7</td>\n",
       "      <td>WN</td>\n",
       "      <td>N709SW</td>\n",
       "      <td>3848</td>\n",
       "      <td>10397</td>\n",
       "      <td>11292</td>\n",
       "      <td>1355</td>\n",
       "      <td>...</td>\n",
       "      <td>Atlanta, GA</td>\n",
       "      <td>Denver, CO</td>\n",
       "      <td>2019-01-20</td>\n",
       "      <td>USW00013874</td>\n",
       "      <td>ATLANTA HARTSFIELD JACKSON INTERNATIONAL AIRPO...</td>\n",
       "      <td>0.00</td>\n",
       "      <td>0.0</td>\n",
       "      <td>0.0</td>\n",
       "      <td>53.0</td>\n",
       "      <td>20.36</td>\n",
       "    </tr>\n",
       "    <tr>\n",
       "      <th>4</th>\n",
       "      <td>5</td>\n",
       "      <td>1</td>\n",
       "      <td>20</td>\n",
       "      <td>7</td>\n",
       "      <td>WN</td>\n",
       "      <td>N7864B</td>\n",
       "      <td>1352</td>\n",
       "      <td>10397</td>\n",
       "      <td>11697</td>\n",
       "      <td>1125</td>\n",
       "      <td>...</td>\n",
       "      <td>Atlanta, GA</td>\n",
       "      <td>Fort Lauderdale, FL</td>\n",
       "      <td>2019-01-20</td>\n",
       "      <td>USW00013874</td>\n",
       "      <td>ATLANTA HARTSFIELD JACKSON INTERNATIONAL AIRPO...</td>\n",
       "      <td>0.00</td>\n",
       "      <td>0.0</td>\n",
       "      <td>0.0</td>\n",
       "      <td>53.0</td>\n",
       "      <td>20.36</td>\n",
       "    </tr>\n",
       "    <tr>\n",
       "      <th>...</th>\n",
       "      <td>...</td>\n",
       "      <td>...</td>\n",
       "      <td>...</td>\n",
       "      <td>...</td>\n",
       "      <td>...</td>\n",
       "      <td>...</td>\n",
       "      <td>...</td>\n",
       "      <td>...</td>\n",
       "      <td>...</td>\n",
       "      <td>...</td>\n",
       "      <td>...</td>\n",
       "      <td>...</td>\n",
       "      <td>...</td>\n",
       "      <td>...</td>\n",
       "      <td>...</td>\n",
       "      <td>...</td>\n",
       "      <td>...</td>\n",
       "      <td>...</td>\n",
       "      <td>...</td>\n",
       "      <td>...</td>\n",
       "      <td>...</td>\n",
       "    </tr>\n",
       "    <tr>\n",
       "      <th>1057386</th>\n",
       "      <td>1382967</td>\n",
       "      <td>12</td>\n",
       "      <td>11</td>\n",
       "      <td>3</td>\n",
       "      <td>DL</td>\n",
       "      <td>N321DH</td>\n",
       "      <td>1826</td>\n",
       "      <td>13303</td>\n",
       "      <td>10397</td>\n",
       "      <td>1807</td>\n",
       "      <td>...</td>\n",
       "      <td>Miami, FL</td>\n",
       "      <td>Atlanta, GA</td>\n",
       "      <td>2019-12-11</td>\n",
       "      <td>USW00012839</td>\n",
       "      <td>MIAMI INTERNATIONAL AIRPORT, FL US</td>\n",
       "      <td>0.47</td>\n",
       "      <td>NaN</td>\n",
       "      <td>NaN</td>\n",
       "      <td>85.0</td>\n",
       "      <td>6.71</td>\n",
       "    </tr>\n",
       "    <tr>\n",
       "      <th>1057387</th>\n",
       "      <td>1382968</td>\n",
       "      <td>12</td>\n",
       "      <td>11</td>\n",
       "      <td>3</td>\n",
       "      <td>DL</td>\n",
       "      <td>N329NW</td>\n",
       "      <td>1982</td>\n",
       "      <td>13303</td>\n",
       "      <td>12953</td>\n",
       "      <td>1959</td>\n",
       "      <td>...</td>\n",
       "      <td>Miami, FL</td>\n",
       "      <td>New York, NY</td>\n",
       "      <td>2019-12-11</td>\n",
       "      <td>USW00012839</td>\n",
       "      <td>MIAMI INTERNATIONAL AIRPORT, FL US</td>\n",
       "      <td>0.47</td>\n",
       "      <td>NaN</td>\n",
       "      <td>NaN</td>\n",
       "      <td>85.0</td>\n",
       "      <td>6.71</td>\n",
       "    </tr>\n",
       "    <tr>\n",
       "      <th>1057388</th>\n",
       "      <td>1382969</td>\n",
       "      <td>12</td>\n",
       "      <td>11</td>\n",
       "      <td>3</td>\n",
       "      <td>DL</td>\n",
       "      <td>N331NW</td>\n",
       "      <td>1987</td>\n",
       "      <td>13303</td>\n",
       "      <td>10397</td>\n",
       "      <td>1125</td>\n",
       "      <td>...</td>\n",
       "      <td>Miami, FL</td>\n",
       "      <td>Atlanta, GA</td>\n",
       "      <td>2019-12-11</td>\n",
       "      <td>USW00012839</td>\n",
       "      <td>MIAMI INTERNATIONAL AIRPORT, FL US</td>\n",
       "      <td>0.47</td>\n",
       "      <td>NaN</td>\n",
       "      <td>NaN</td>\n",
       "      <td>85.0</td>\n",
       "      <td>6.71</td>\n",
       "    </tr>\n",
       "    <tr>\n",
       "      <th>1057389</th>\n",
       "      <td>1382970</td>\n",
       "      <td>12</td>\n",
       "      <td>11</td>\n",
       "      <td>3</td>\n",
       "      <td>DL</td>\n",
       "      <td>N309DN</td>\n",
       "      <td>2151</td>\n",
       "      <td>13303</td>\n",
       "      <td>12953</td>\n",
       "      <td>700</td>\n",
       "      <td>...</td>\n",
       "      <td>Miami, FL</td>\n",
       "      <td>New York, NY</td>\n",
       "      <td>2019-12-11</td>\n",
       "      <td>USW00012839</td>\n",
       "      <td>MIAMI INTERNATIONAL AIRPORT, FL US</td>\n",
       "      <td>0.47</td>\n",
       "      <td>NaN</td>\n",
       "      <td>NaN</td>\n",
       "      <td>85.0</td>\n",
       "      <td>6.71</td>\n",
       "    </tr>\n",
       "    <tr>\n",
       "      <th>1057390</th>\n",
       "      <td>1382971</td>\n",
       "      <td>12</td>\n",
       "      <td>11</td>\n",
       "      <td>3</td>\n",
       "      <td>DL</td>\n",
       "      <td>N338DN</td>\n",
       "      <td>2405</td>\n",
       "      <td>13303</td>\n",
       "      <td>10397</td>\n",
       "      <td>1231</td>\n",
       "      <td>...</td>\n",
       "      <td>Miami, FL</td>\n",
       "      <td>Atlanta, GA</td>\n",
       "      <td>2019-12-11</td>\n",
       "      <td>USW00012839</td>\n",
       "      <td>MIAMI INTERNATIONAL AIRPORT, FL US</td>\n",
       "      <td>0.47</td>\n",
       "      <td>NaN</td>\n",
       "      <td>NaN</td>\n",
       "      <td>85.0</td>\n",
       "      <td>6.71</td>\n",
       "    </tr>\n",
       "  </tbody>\n",
       "</table>\n",
       "<p>1057391 rows × 48 columns</p>\n",
       "</div>"
      ],
      "text/plain": [
       "              id  month  day_of_month  day_of_week op_unique_carrier tail_num  \\\n",
       "0              1      1            20            7                WN   N204WN   \n",
       "1              2      1            20            7                WN   N8682B   \n",
       "2              3      1            20            7                WN   N717SA   \n",
       "3              4      1            20            7                WN   N709SW   \n",
       "4              5      1            20            7                WN   N7864B   \n",
       "...          ...    ...           ...          ...               ...      ...   \n",
       "1057386  1382967     12            11            3                DL   N321DH   \n",
       "1057387  1382968     12            11            3                DL   N329NW   \n",
       "1057388  1382969     12            11            3                DL   N331NW   \n",
       "1057389  1382970     12            11            3                DL   N309DN   \n",
       "1057390  1382971     12            11            3                DL   N338DN   \n",
       "\n",
       "         op_carrier_fl_num  origin_airport_id  dest_airport_id  crs_dep_time  \\\n",
       "0                      682              10397            11292           605   \n",
       "1                     2622              10397            11292          2120   \n",
       "2                     2939              10397            11292          1800   \n",
       "3                     3848              10397            11292          1355   \n",
       "4                     1352              10397            11697          1125   \n",
       "...                    ...                ...              ...           ...   \n",
       "1057386               1826              13303            10397          1807   \n",
       "1057387               1982              13303            12953          1959   \n",
       "1057388               1987              13303            10397          1125   \n",
       "1057389               2151              13303            12953           700   \n",
       "1057390               2405              13303            10397          1231   \n",
       "\n",
       "         ...  destination_city_name     origin_city_name       date  \\\n",
       "0        ...            Atlanta, GA           Denver, CO 2019-01-20   \n",
       "1        ...            Atlanta, GA           Denver, CO 2019-01-20   \n",
       "2        ...            Atlanta, GA           Denver, CO 2019-01-20   \n",
       "3        ...            Atlanta, GA           Denver, CO 2019-01-20   \n",
       "4        ...            Atlanta, GA  Fort Lauderdale, FL 2019-01-20   \n",
       "...      ...                    ...                  ...        ...   \n",
       "1057386  ...              Miami, FL          Atlanta, GA 2019-12-11   \n",
       "1057387  ...              Miami, FL         New York, NY 2019-12-11   \n",
       "1057388  ...              Miami, FL          Atlanta, GA 2019-12-11   \n",
       "1057389  ...              Miami, FL         New York, NY 2019-12-11   \n",
       "1057390  ...              Miami, FL          Atlanta, GA 2019-12-11   \n",
       "\n",
       "             station                                               name  prcp  \\\n",
       "0        USW00013874  ATLANTA HARTSFIELD JACKSON INTERNATIONAL AIRPO...  0.00   \n",
       "1        USW00013874  ATLANTA HARTSFIELD JACKSON INTERNATIONAL AIRPO...  0.00   \n",
       "2        USW00013874  ATLANTA HARTSFIELD JACKSON INTERNATIONAL AIRPO...  0.00   \n",
       "3        USW00013874  ATLANTA HARTSFIELD JACKSON INTERNATIONAL AIRPO...  0.00   \n",
       "4        USW00013874  ATLANTA HARTSFIELD JACKSON INTERNATIONAL AIRPO...  0.00   \n",
       "...              ...                                                ...   ...   \n",
       "1057386  USW00012839                 MIAMI INTERNATIONAL AIRPORT, FL US  0.47   \n",
       "1057387  USW00012839                 MIAMI INTERNATIONAL AIRPORT, FL US  0.47   \n",
       "1057388  USW00012839                 MIAMI INTERNATIONAL AIRPORT, FL US  0.47   \n",
       "1057389  USW00012839                 MIAMI INTERNATIONAL AIRPORT, FL US  0.47   \n",
       "1057390  USW00012839                 MIAMI INTERNATIONAL AIRPORT, FL US  0.47   \n",
       "\n",
       "        snow  snwd  tmax   awnd  \n",
       "0        0.0   0.0  53.0  20.36  \n",
       "1        0.0   0.0  53.0  20.36  \n",
       "2        0.0   0.0  53.0  20.36  \n",
       "3        0.0   0.0  53.0  20.36  \n",
       "4        0.0   0.0  53.0  20.36  \n",
       "...      ...   ...   ...    ...  \n",
       "1057386  NaN   NaN  85.0   6.71  \n",
       "1057387  NaN   NaN  85.0   6.71  \n",
       "1057388  NaN   NaN  85.0   6.71  \n",
       "1057389  NaN   NaN  85.0   6.71  \n",
       "1057390  NaN   NaN  85.0   6.71  \n",
       "\n",
       "[1057391 rows x 48 columns]"
      ]
     },
     "execution_count": 285,
     "metadata": {},
     "output_type": "execute_result"
    }
   ],
   "source": [
    "flight_df"
   ]
  },
  {
   "cell_type": "code",
   "execution_count": 298,
   "metadata": {},
   "outputs": [],
   "source": [
    "flight_df['id'] = flight_df['id'].astype('int64')\n",
    "flight_df['is_delayed'] = flight_df['is_delayed'].astype('int64')"
   ]
  },
  {
   "cell_type": "code",
   "execution_count": 299,
   "metadata": {},
   "outputs": [
    {
     "data": {
      "text/plain": [
       "0          0\n",
       "1          0\n",
       "2          0\n",
       "3          0\n",
       "4          0\n",
       "          ..\n",
       "1057386    0\n",
       "1057387    1\n",
       "1057388    0\n",
       "1057389    1\n",
       "1057390    0\n",
       "Name: is_delayed, Length: 1057391, dtype: int64"
      ]
     },
     "execution_count": 299,
     "metadata": {},
     "output_type": "execute_result"
    }
   ],
   "source": [
    "flight_df['is_delayed']"
   ]
  },
  {
   "cell_type": "code",
   "execution_count": 301,
   "metadata": {},
   "outputs": [
    {
     "data": {
      "text/plain": [
       "391"
      ]
     },
     "execution_count": 301,
     "metadata": {},
     "output_type": "execute_result"
    }
   ],
   "source": [
    "flight_df.to_sql('flights_n', engine, if_exists='replace', index=False)"
   ]
  }
 ],
 "metadata": {
  "kernelspec": {
   "display_name": "Python 3 (ipykernel)",
   "language": "python",
   "name": "python3"
  },
  "language_info": {
   "codemirror_mode": {
    "name": "ipython",
    "version": 3
   },
   "file_extension": ".py",
   "mimetype": "text/x-python",
   "name": "python",
   "nbconvert_exporter": "python",
   "pygments_lexer": "ipython3",
   "version": "3.10.9"
  },
  "vscode": {
   "interpreter": {
    "hash": "38d75d0df746d7f75dd34c5d1915af59cb55786647bd68b8d9064425d7680b12"
   }
  }
 },
 "nbformat": 4,
 "nbformat_minor": 2
}
