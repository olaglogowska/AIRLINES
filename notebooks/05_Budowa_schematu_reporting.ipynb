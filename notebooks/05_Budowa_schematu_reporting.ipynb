{
 "cells": [
  {
   "cell_type": "markdown",
   "metadata": {},
   "source": [
    " # Opis notatnika\n",
    " Analiza przygotowana w poprzednim kroku została odebrana pozytywnie. W związku z tym, zostaliśmy poproszeni\n",
    " o przygotowanie raportu na podstawie danych z roku 2020. Ma być on później  wdrożony przez zespół IT na zewnętrzny\n",
    " serwis. Wybór padł na `Dash`.\n",
    "\n",
    " Zadanie wykonamy w dwóch krokach:  \n",
    " 1. Znając wymagania raportu, stworzymy na bazie danych odpowiednie komponenty, które zostaną następnie wykorzystane do wizualizacji.  \n",
    " 1. Stworzymy raport używając `Dash`.\n",
    "\n",
    " Ten notatnik skupia się na odpowiednim przygotowaniu bazy danych pod cele raportowe.\n",
    " \n",
    " W tej części projektu końcowego wcielasz się w rolę BI Engineera, który ma za zadanie stworzyć raport zgodny z wytycznymi biznesowymi dostarczonymi przez klienta."
   ]
  },
  {
   "cell_type": "markdown",
   "metadata": {},
   "source": [
    " # Wymagania biznesowe\n",
    " Po prezentacji wyników analizy na niezależnym spotkaniu, zostały określone następujące obszary raportowania odsetka opóźnień lotów:  \n",
    " 1. Wyświetlanie TOP 10 (w sensie najwyższego odsetka opóźnień) lotnisk na podstawie liczby odlotów, wyświetlona ma być również informacja o liczbie przylotów - widok `top_airports_by_departure`.  \n",
    " 1. Wyświetlenie TOP 10 (w sensie najwyższego odsetka opóźnień) tras lotów. Przy czym istotna dla nas jest kolejność, przykładowo trasa (Warszawa, Paryż) jest inna niż (Paryż, Warszawa). Dodatkowym wymaganiem jest, aby minimalna liczba lotów odbytych na trasie wynosiła co najmniej 10000 przelotów - widok `top_reliability_roads`.  \n",
    " 1. Porównanie roku 2019 vs. 2020, aby śledzić wpływ COVID na realizację lotów. Interesują nas podejścia:  \n",
    "     - miesiąc do miesiąca, przykładowo odsetek opoźnień styczeń 2019 vs. odsetek opoźnień styczeń 2020, odsetek opoźnień luty 2019 vs. odsetek opoźnień luty 2020 itd. - widok `year_to_year_comparision`,  \n",
    "     - dzień do dnia, przykładowo odsetek opoźnień wtorek 2019 vs. odsetek opoźnień wtorek 2020 - widok `day_to_day_comparision`.  \n",
    " 1. Dzienny, czyli jak danego dnia, globalnie wyglądał wskaźnik opóźnień lotów samolotu, tj. odsetek opóźnień 01-01-2019, odsetek opóźnień 02-01-2019 itd."
   ]
  },
  {
   "cell_type": "markdown",
   "metadata": {},
   "source": [
    " # Podejście techniczne do problemu\n",
    " Naszym celem będzie odseparowanie warstwy przygotowania danych (logika raportu) od warstwy prezentacyjnej (wizualizacja).\n",
    " Chcemy zapewnić, aby odpowiednie procesy zajmowały się tylko swoimi zadaniami. \n",
    " \n",
    " > W tym podejściu warstwa prezentacyjna (wykres/raport) nie implementuje logiki biznesowej w celu przetwarzania danych. Innymi słowy, nie chcemy aby przykładowo agregacja była wykonywana w momencie tworzenia wizualizacji.\n",
    "\n",
    " To podejście będzie spójne ze współczesnym sposobem projektowania aplikacji. Ma to też dodatkowy benefit - ze względu na wolumen danych na bazie, nie musimy ich najpierw pobierać - warstwa logiczna je odpowiednio zagreguje i przekaże zdecydowanie mniejszą liczbę wierszy, co przyśpieszy działanie całości.\n",
    "\n",
    " > Logika działania tego notebooka jest zbieżna z tą, którą robiliśmy już na przykładzie `Inicjowania bazy danych` - warto mieć go pod ręką."
   ]
  },
  {
   "cell_type": "markdown",
   "metadata": {},
   "source": [
    " # Przygotowanie bazy danych\n",
    " Na bazie danych, gdzie umieszczone są już dane, wszystko zawarte jest na schemacie `public`. Ponieważ zgodnie z wymaganiami otrzymujemy nowy obszar wykorzystania danych, stworzymy sobie schemat dedykowany - `reporting`.  \n",
    " Dalej stworzymy widoki, które odpowiedzą na zadane wcześniej pytania.\n",
    "\n",
    " > Stworzenie dedykowanego schematu ma więcej korzyści niż nam się wydaje, w ten sposób możemy łatwo wprowadzić zabezpieczenie na dane, które chcemy udostępniać.\n",
    "\n",
    " ## Stworzenie dedykowanego schematu\n",
    " W pliku `reporting.sql` napisz kwerendę, która stworzy (o ile już nie istnieje) schemat `reporting`.\n",
    " Ten temat nie był omawiany w trakcie trwania kursu, jednak łatwo można uzupełnić wiedzę czytając np. [ten](https://www.postgresqltutorial.com/postgresql-administration/postgresql-create-schema/) samouczek."
   ]
  },
  {
   "cell_type": "markdown",
   "metadata": {},
   "source": [
    " # Aktualizacja bazy danych\n",
    " W tym miejscu odpowiednio skonfiguruj połączenie do bazy danych."
   ]
  },
  {
   "cell_type": "markdown",
   "metadata": {},
   "source": [
    " Tutaj zaimportuj potrzebne biblioteki"
   ]
  },
  {
   "cell_type": "code",
   "execution_count": 96,
   "metadata": {},
   "outputs": [],
   "source": [
    "import pandas as pd\n",
    "from sqlalchemy import create_engine\n",
    "import matplotlib.pyplot as plt\n",
    "import numpy as np\n",
    "import seaborn as sns\n",
    "import psycopg2\n",
    "from psycopg2 import sql"
   ]
  },
  {
   "cell_type": "markdown",
   "metadata": {},
   "source": [
    " ## Konfiguracja połączenia\n",
    " Tutaj uzupełnij konfigurację połączenia"
   ]
  },
  {
   "cell_type": "code",
   "execution_count": 97,
   "metadata": {},
   "outputs": [],
   "source": [
    "username = 'postgres'\n",
    "password = 'NoScar11'\n",
    "\n",
    "host = 'localhost'\n",
    "database = 'airlines'\n",
    "port = 5432"
   ]
  },
  {
   "cell_type": "markdown",
   "metadata": {},
   "source": [
    " Tutaj zdefiniuj zmienną `con` oraz `cursor`"
   ]
  },
  {
   "cell_type": "code",
   "execution_count": 98,
   "metadata": {},
   "outputs": [],
   "source": [
    "con = psycopg2.connect(host=host, user=username, password=password, dbname=database)\n",
    "con.autocommit = True  \n",
    "cursor = con.cursor()"
   ]
  },
  {
   "cell_type": "markdown",
   "metadata": {},
   "source": [
    " ## Wczytanie pliku `reporting.sql`\n",
    " Z katalogu `sql` wczytaj plik `reporting.sql`"
   ]
  },
  {
   "cell_type": "code",
   "execution_count": 99,
   "metadata": {},
   "outputs": [],
   "source": [
    "with open('/Users/aleksandraobrzut/Documents/Pliki_do_Portfolio_Lab/sql/reporting.sql', 'r') as file:\n",
    "    sql_content = file.read()"
   ]
  },
  {
   "cell_type": "markdown",
   "metadata": {},
   "source": [
    " W tym miejscu odpowiednio rozdziel zawartość pliku `reporting.sql` na mniejsze kwerendy używając `;`"
   ]
  },
  {
   "cell_type": "code",
   "execution_count": 100,
   "metadata": {},
   "outputs": [],
   "source": [
    "queries = sql_content.split(';')"
   ]
  },
  {
   "cell_type": "code",
   "execution_count": 101,
   "metadata": {},
   "outputs": [
    {
     "data": {
      "text/plain": [
       "['\\n/*\\nTutaj zdefiniuj schemę `reporting`\\n*/\\nCREATE SCHEMA IF NOT EXISTS reporting',\n",
       " '\\n/*\\nTutaj napisz definicję widoku reporting.flight, która:\\n- będzie usuwać dane o lotach anulowanych `cancelled = 0`\\n- będzie zawierać kolumnę `is_delayed`, zgodnie z wcześniejszą definicją tj. `is_delayed = 1 if dep_delay_new > 0 else 0` (zaimplementowana w SQL)\\n\\nWskazówka:\\n- SQL - analiza danych > Dzień 4 Proceduralny SQL > Wyrażenia warunkowe\\n- SQL - analiza danych > Przygotowanie do zjazdu 2 > Widoki\\n*/\\nCREATE OR REPLACE VIEW reporting.flight AS\\nSELECT\\n    id,\\n    origin_airport_id,\\n    dest_airport_id,\\n    name,\\n    destination_city_name,\\n    year,\\n    month,\\n    day_of_week,\\n    dep_delay,\\n    cancelled,\\n    CASE WHEN dep_delay > 0 THEN 1 ELSE 0 END AS is_delayed\\nFROM\\n    public.flight\\nWHERE\\n    cancelled = 0\\n',\n",
       " '\\n/*\\nTutaj napisz definicję widoku reporting.top_reliability_roads, która będzie zawierała następujące kolumny:\\n- `origin_airport_id`,\\n- `origin_airport_name`,\\n- `dest_airport_id`,\\n- `dest_airport_name`,\\n- `year`,\\n- `cnt` - jako liczba wykonananych lotów na danej trasie,\\n- `reliability` - jako odsetek opóźnień na danej trasie,\\n- `nb` - numerowane od 1, 2, 3 według kolumny `reliability`. W przypadku takich samych wartości powino zwrócić 1, 2, 2, 3... \\nPamiętaj o tym, że w wyniku powinny pojawić się takie trasy, na których odbyło się ponad 10000 lotów.\\n\\nWskazówka:\\n- SQL - analiza danych > Dzień 2 Relacje oraz JOIN > JOIN\\n- SQL - analiza danych > Dzień 3 - Analiza danych > Grupowanie\\n- SQL - analiza danych > Dzień 1 Podstawy SQL > Aliasowanie\\n- SQL - analiza danych > Dzień 1 Podstawy SQL > Podzapytania\\n*/\\nCREATE OR REPLACE VIEW reporting.top_reliability_roads AS\\nSELECT\\n    f.origin_airport_id,\\n    al1.name AS origin_airport_name,\\n    f.dest_airport_id,\\n    al2.name AS dest_airport_name,\\n    f.year,\\n    COUNT(f.id) AS cnt,\\n    ROUND(COUNT(CASE WHEN f.dep_delay > 0 THEN 1 ELSE NULL END) / CAST(COUNT(f.id) AS NUMERIC), 2) AS reliability,\\n    DENSE_RANK() OVER (ORDER BY ROUND(COUNT(CASE WHEN f.dep_delay > 0 THEN 1 ELSE NULL END) / CAST(COUNT(f.id) AS NUMERIC), 2) DESC) AS nb\\nFROM\\n    public.flight AS f\\nJOIN\\n    public.airport_list AS al1 ON f.origin_airport_id = al1.origin_airport_id\\nJOIN\\n    public.airport_list AS al2 ON f.dest_airport_id = al2.origin_airport_id\\nWHERE\\n    f.cancelled = 0\\nGROUP BY\\n    f.origin_airport_id,\\n    al1.name,\\n    f.dest_airport_id,\\n    al2.name,\\n    f.year\\nHAVING\\n    COUNT(f.id) > 10000\\n',\n",
       " '\\n/*\\nTutaj napisz definicję widoku reporting.year_to_year_comparision, która będzie zawierał następujące kolumny:\\n- `year`\\n- `month`,\\n- `flights_amount`\\n- `reliability`\\n*/\\nCREATE OR REPLACE VIEW reporting.year_to_year_comparision AS\\nSELECT\\n    year,\\n    month,\\n    COUNT(id) AS flights_amount,\\n    round(count(case when dep_delay > 0 then 1 else null end)/ cast(count(id) as numeric), 2) as reliability\\nFROM\\n    public.flight\\nWHERE cancelled = 0\\nGROUP BY\\n    year,\\n    month\\n',\n",
       " '\\n/*\\nTutaj napisz definicję widoku reporting.day_to_day_comparision, który będzie zawierał następujące kolumny:\\n- `year`\\n- `day_of_week`\\n- `flights_amount`\\n*/ \\nCREATE OR REPLACE VIEW reporting.day_to_day_comparision AS\\nSELECT\\n    year,\\n    day_of_week,\\n    COUNT(id) AS flights_amount\\nFROM\\n    public.flight\\nWHERE cancelled = 0\\nGROUP BY\\n    year,\\n    day_of_week\\n',\n",
       " \"\\n/*\\nTutaj napisz definicję widoku reporting.day_by_day_reliability, ktory będzie zawierał następujące kolumny:\\n- `date` jako złożenie kolumn `year`, `month`, `day`, powinna być typu `date`\\n- `reliability` jako odsetek opóźnień danego dnia\\n\\nWskazówki:\\n- formaty dat w postgresql: [klik](https://www.postgresql.org/docs/13/functions-formatting.html),\\n- jeśli chcesz dodać zera na początek liczby np. `1` > `01`, posłuż się metodą `LPAD`: [przykład](https://stackoverflow.com/questions/26379446/padding-zeros-to-the-left-in-postgresql),\\n- do konwertowania ciągu znaków na datę najwygodniej w Postgres użyć `to_date`: [przykład](https://www.postgresqltutorial.com/postgresql-date-functions/postgresql-to_date/)\\n- do złączenia kilku kolumn / wartości typu string, używa się operatora `||`, przykładowo: SELECT 'a' || 'b' as example\\n\\nUwaga: Nie dodawaj tutaj na końcu srednika - przy używaniu split, pojawi się pusta kwerenda, co będzie skutkowało późniejszym błędem przy próbie wykonania skryptu z poziomu notatnika.\\n*/\\n\\nCREATE OR REPLACE VIEW reporting.day_by_day_reliability AS\\nSELECT\\n    TO_DATE(CONCAT(year, LPAD(month::text, 2, '0'), LPAD(day_of_week::text, 2, '0')), 'YYYYMMDD') AS date,\\n    ROUND(COUNT(CASE WHEN dep_delay > 0 THEN 1 ELSE NULL END) / CAST(COUNT(id) AS NUMERIC), 2) AS reliability\\nFROM\\n    public.flight\\nWHERE\\n    cancelled = 0\\nGROUP BY\\n    year,\\n    month,\\n    day_of_week\"]"
      ]
     },
     "execution_count": 101,
     "metadata": {},
     "output_type": "execute_result"
    }
   ],
   "source": [
    "queries"
   ]
  },
  {
   "cell_type": "markdown",
   "metadata": {},
   "source": [
    " W tym miejscu wykonaj każdą z kwerend, aby zainicjować strukturę bazy danych"
   ]
  },
  {
   "cell_type": "code",
   "execution_count": 109,
   "metadata": {},
   "outputs": [],
   "source": [
    "for query in queries:\n",
    "    if query:\n",
    "        cursor.execute(query)"
   ]
  },
  {
   "cell_type": "code",
   "execution_count": 110,
   "metadata": {},
   "outputs": [],
   "source": [
    "for query in queries:\n",
    "    cursor.execute(query)"
   ]
  },
  {
   "cell_type": "markdown",
   "metadata": {},
   "source": [
    " Zatwierdzenie wszystkich operacji na bazie, czyli stworzenie widoków"
   ]
  },
  {
   "cell_type": "code",
   "execution_count": null,
   "metadata": {},
   "outputs": [],
   "source": []
  },
  {
   "cell_type": "markdown",
   "metadata": {},
   "source": [
    " ### Sprawdzenie"
   ]
  },
  {
   "cell_type": "code",
   "execution_count": 111,
   "metadata": {},
   "outputs": [],
   "source": [
    "# Ten kod chyba wygląda znajomo....\n",
    "# istnienie widoków możemy sprawdzić tak samo jak tabele\n",
    "def check_if_table_exists(table_name):\n",
    "    msg = f\"Sprawdzam czy istnieje tabela {table_name}\"\n",
    "    print(msg)\n",
    "\n",
    "    query = f\"select 1 from {table_name}\"\n",
    "    # jeżeli tabela nie istnieje, ten krok zwróci wyjątek\n",
    "    cursor.execute(query)\n",
    "    print('OK!')"
   ]
  },
  {
   "cell_type": "code",
   "execution_count": 112,
   "metadata": {},
   "outputs": [],
   "source": [
    "views_to_test = [\n",
    "    'reporting.flight',\n",
    "    'reporting.top_reliability_roads',\n",
    "    'reporting.year_to_year_comparision',\n",
    "    'reporting.day_to_day_comparision',\n",
    "    'reporting.day_by_day_reliability'\n",
    "]"
   ]
  },
  {
   "cell_type": "code",
   "execution_count": 113,
   "metadata": {},
   "outputs": [
    {
     "name": "stdout",
     "output_type": "stream",
     "text": [
      "Sprawdzam czy istnieje tabela reporting.flight\n",
      "OK!\n",
      "Sprawdzam czy istnieje tabela reporting.top_reliability_roads\n",
      "OK!\n",
      "Sprawdzam czy istnieje tabela reporting.year_to_year_comparision\n",
      "OK!\n",
      "Sprawdzam czy istnieje tabela reporting.day_to_day_comparision\n",
      "OK!\n",
      "Sprawdzam czy istnieje tabela reporting.day_by_day_reliability\n",
      "OK!\n"
     ]
    }
   ],
   "source": [
    "for view in views_to_test:\n",
    "    check_if_table_exists(view)"
   ]
  },
  {
   "cell_type": "code",
   "execution_count": 114,
   "metadata": {},
   "outputs": [
    {
     "name": "stdout",
     "output_type": "stream",
     "text": [
      "Wszystko wygląda OK :) Możesz przejść do kolejnego zadania.\n"
     ]
    }
   ],
   "source": [
    "con.close()\n",
    "msg = \"Wszystko wygląda OK :) Możesz przejść do kolejnego zadania.\"\n",
    "print(msg)"
   ]
  },
  {
   "cell_type": "markdown",
   "metadata": {},
   "source": [
    " # Podsumownie\n",
    " W tym notatniku stworzyliśmy nowy schemat - `reporting`, którego zadaniem jest przygotowanie naszych danych\n",
    " do wizualizacji. Dalsza część pracy będzie polegała na wyświetleniu w wizualnie atrakcyjny sposób danych w interaktywnym raporcie stworzonym\n",
    " z pomocą `Dash`."
   ]
  }
 ],
 "metadata": {
  "kernelspec": {
   "display_name": "Python 3 (ipykernel)",
   "language": "python",
   "name": "python3"
  },
  "language_info": {
   "codemirror_mode": {
    "name": "ipython",
    "version": 3
   },
   "file_extension": ".py",
   "mimetype": "text/x-python",
   "name": "python",
   "nbconvert_exporter": "python",
   "pygments_lexer": "ipython3",
   "version": "3.10.9"
  },
  "vscode": {
   "interpreter": {
    "hash": "38d75d0df746d7f75dd34c5d1915af59cb55786647bd68b8d9064425d7680b12"
   }
  }
 },
 "nbformat": 4,
 "nbformat_minor": 2
}
